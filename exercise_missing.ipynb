{
 "cells": [
  {
   "cell_type": "markdown",
   "metadata": {},
   "source": [
    "# Missing Values Exercises\n"
   ]
  },
  {
   "cell_type": "markdown",
   "metadata": {},
   "source": [
    "## Gradescope Autograding\n",
    "\n",
    "Please follow [all standard guidance](https://www.practicaldatascience.org/html/autograder_guidelines.html) for submitting this assignment to the Gradescope autograder, including storing your solutions in a dictionary called `results` and ensuring your notebook runs from the start to completion without any errors.\n",
    "\n",
    "For this assignment, please name your file `exercise_missing.ipynb` before uploading.\n",
    "\n",
    "You can check that you have answers for all questions in your `results` dictionary with this code:\n",
    "\n",
    "\n",
    "```python\n",
    "assert set(results.keys()) == {\n",
    "    \"ex2_avg_income\",\n",
    "    \"ex3_share_making_9999999\",\n",
    "    \"ex3_share_making_zero\",\n",
    "    \"ex5_avg_income\",\n",
    "    \"ex8_avg_income_black\",\n",
    "    \"ex8_avg_income_white\",\n",
    "    \"ex8_racial_difference\",\n",
    "    \"ex9_avg_income_black\",\n",
    "    \"ex9_avg_income_white\",\n",
    "    \"ex10_wage_gap\",\n",
    "}\n",
    "```\n",
    "\n",
    "### Submission Limits\n",
    "\n",
    "Please remember that you are **only allowed three submissions to the autograder.** Your last submission (if you submit 3 or fewer times), or your third submission (if you submit more than 3 times) will determine your grade Submissions that error out will **not** count against this total.\n"
   ]
  },
  {
   "cell_type": "code",
   "execution_count": 162,
   "metadata": {},
   "outputs": [],
   "source": [
    "import pandas as pd\n",
    "import numpy as np\n",
    "\n",
    "pd.set_option(\"mode.copy_on_write\", True)\n",
    "\n",
    "results = {}"
   ]
  },
  {
   "cell_type": "markdown",
   "metadata": {},
   "source": [
    "## Exercises"
   ]
  },
  {
   "cell_type": "markdown",
   "metadata": {},
   "source": [
    "### Exercise 1\n",
    "\n",
    "Today, we will be using the ACS data we used during out first `pandas` exercise to examine the US income distribution, and how it varies by race. Note that because the US income distribution has a very small number of people with *extremely* high incomes, and the ACS is just a sample of Americans, the far right tail of the distribution will not be very well estimated. However, this data should suffice for helping to understand wealth inequality in the United States. \n",
    "\n",
    "To begin, load the ACS Data we used in our first pandas exercise. That [data can be found here](https://github.com/nickeubank/MIDS_Data/tree/master/US_AmericanCommunitySurvey). We'll be working with `US_ACS_2017_10pct_sample.dta`. "
   ]
  },
  {
   "cell_type": "code",
   "execution_count": 163,
   "metadata": {},
   "outputs": [],
   "source": [
    "import pandas as pd\n",
    "\n",
    "# URL of the dataset US_ACS_2017_10pct_sample.dta\n",
    "url = \"https://github.com/nickeubank/MIDS_Data/raw/master/US_AmericanCommunitySurvey/US_ACS_2017_10pct_sample.dta\"\n",
    "\n",
    "# Reading the data from the URL into a pandas DataFrame\n",
    "acs = pd.read_stata(url)"
   ]
  },
  {
   "cell_type": "markdown",
   "metadata": {},
   "source": [
    "### Exercise 2\n",
    "\n",
    "Let's begin by calculating the mean US incomes from this data (recall that income is stored in the `inctot` variable). Store the answer in `results` under the key `\"ex2_avg_income\"`."
   ]
  },
  {
   "cell_type": "code",
   "execution_count": 164,
   "metadata": {},
   "outputs": [
    {
     "name": "stdout",
     "output_type": "stream",
     "text": [
      "The mean US incomes from this ACS data is around $1723646.27.\n"
     ]
    }
   ],
   "source": [
    "ex2_avg_income = acs[\"inctot\"].mean()\n",
    "results[\"ex2_avg_income\"] = ex2_avg_income\n",
    "print(f\"The mean US incomes from this ACS data is around ${round (ex2_avg_income,2)}.\")"
   ]
  },
  {
   "cell_type": "markdown",
   "metadata": {},
   "source": [
    "### Exercise 3\n",
    "\n",
    "Hmmm... That doesn't look right. The average American is definitely not earning that much a year! Let's look at the values of `inctot` using `value_counts()`. Do you see a problem?\n",
    "\n",
    "Now use `value_counts()` with the argument `normalize=True` to see proportions of the sample that report each value instead of the count of people in each category. What percentage of our sample has an income of 9,999,999? Store that proportion (between 0 and 1) as `\"ex3_share_making_9999999\"`. What percentage has an income of 0? Store that proportion as `\"ex3_share_making_zero\"`.\n",
    "\n",
    "(Recall `.value_counts()` returns a Series, so you can pull values out with our usual pandas tools.)"
   ]
  },
  {
   "cell_type": "code",
   "execution_count": 165,
   "metadata": {},
   "outputs": [
    {
     "data": {
      "text/plain": [
       "inctot\n",
       "9999999    53901\n",
       "0          33679\n",
       "30000       4778\n",
       "50000       4414\n",
       "40000       4413\n",
       "           ...  \n",
       "70520          1\n",
       "76680          1\n",
       "57760          1\n",
       "200310         1\n",
       "505400         1\n",
       "Name: count, Length: 8471, dtype: int64"
      ]
     },
     "execution_count": 165,
     "metadata": {},
     "output_type": "execute_result"
    }
   ],
   "source": [
    "acs[\"inctot\"].value_counts()"
   ]
  },
  {
   "cell_type": "code",
   "execution_count": 166,
   "metadata": {},
   "outputs": [
    {
     "data": {
      "text/plain": [
       "inctot\n",
       "9999999    0.168967\n",
       "0          0.105575\n",
       "30000      0.014978\n",
       "50000      0.013837\n",
       "40000      0.013834\n",
       "             ...   \n",
       "70520      0.000003\n",
       "76680      0.000003\n",
       "57760      0.000003\n",
       "200310     0.000003\n",
       "505400     0.000003\n",
       "Name: proportion, Length: 8471, dtype: float64"
      ]
     },
     "execution_count": 166,
     "metadata": {},
     "output_type": "execute_result"
    }
   ],
   "source": [
    "acs[\"inctot\"].value_counts(normalize=True)"
   ]
  },
  {
   "cell_type": "code",
   "execution_count": 167,
   "metadata": {},
   "outputs": [
    {
     "name": "stdout",
     "output_type": "stream",
     "text": [
      "The proportion of our dataset acs having an income of 9,999,999 is around 16.9%.\n",
      "The proportion of our dataset acs having an income of 0 is around 10.56%.\n",
      "{'ex2_avg_income': 1723646.2703978634, 'ex3_share_making_9999999': 0.1689665333350052, 'ex3_share_making_zero': 0.10557547867738336}\n"
     ]
    }
   ],
   "source": [
    "income_percentage = acs[\"inctot\"].value_counts(normalize=True)\n",
    "ex3_share_making_9999999 = income_percentage[9999999]\n",
    "print(\n",
    "    f\"The proportion of our dataset acs having an income of 9,999,999 is around {round(ex3_share_making_9999999*100,2)}%.\"\n",
    ")\n",
    "ex3_share_making_zero = income_percentage[0]\n",
    "print(\n",
    "    f\"The proportion of our dataset acs having an income of 0 is around {round(ex3_share_making_zero*100,2)}%.\"\n",
    ")\n",
    "results[\"ex3_share_making_9999999\"] = ex3_share_making_9999999\n",
    "results[\"ex3_share_making_zero\"] = ex3_share_making_zero\n",
    "print(results)"
   ]
  },
  {
   "cell_type": "markdown",
   "metadata": {},
   "source": [
    "### Exercise 4\n",
    "\n",
    "As we discussed before, the ACS uses a value of 9999999 to denote that income information is not available for someone. The problem with using this kind of \"sentinel value\" is that pandas doesn't understand that this is supposed to denote missing data, and so when it averages the variable, it doesn't know to ignore 9999999. \n",
    "\n",
    "To help out `pandas`, use the `replace` command to replace all values of 9999999 with `np.nan`. "
   ]
  },
  {
   "cell_type": "code",
   "execution_count": 168,
   "metadata": {},
   "outputs": [
    {
     "data": {
      "text/plain": [
       "0              NaN\n",
       "1           6000.0\n",
       "2           6150.0\n",
       "3          14000.0\n",
       "4              NaN\n",
       "            ...   \n",
       "318999     22130.0\n",
       "319000         NaN\n",
       "319001      5000.0\n",
       "319002    240000.0\n",
       "319003     48000.0\n",
       "Name: inctot, Length: 319004, dtype: float64"
      ]
     },
     "execution_count": 168,
     "metadata": {},
     "output_type": "execute_result"
    }
   ],
   "source": [
    "acs[\"inctot\"] = acs[\"inctot\"].replace(9999999, np.nan)\n",
    "acs[\"inctot\"]"
   ]
  },
  {
   "cell_type": "markdown",
   "metadata": {},
   "source": [
    "### Exercise 5\n",
    "\n",
    "Now that we've properly labeled our missing data as `np.nan`, let's calculate the average US income once more. Store the answer in `results` under the key `\"ex5_avg_income\"`."
   ]
  },
  {
   "cell_type": "code",
   "execution_count": 169,
   "metadata": {},
   "outputs": [
    {
     "name": "stdout",
     "output_type": "stream",
     "text": [
      "The mean US incomes from this data after converting values 9999999 to np.nan is around $40890.18.\n",
      "{'ex2_avg_income': 1723646.2703978634, 'ex3_share_making_9999999': 0.1689665333350052, 'ex3_share_making_zero': 0.10557547867738336, 'ex5_avg_income': 40890.177564946454}\n"
     ]
    }
   ],
   "source": [
    "ex5_avg_income = acs[\"inctot\"].mean()\n",
    "print(\n",
    "    f\"The mean US incomes from this data after converting values 9999999 to np.nan is around ${round (ex5_avg_income,2)}.\"\n",
    ")\n",
    "results[\"ex5_avg_income\"] = ex5_avg_income\n",
    "print(results)"
   ]
  },
  {
   "cell_type": "markdown",
   "metadata": {},
   "source": [
    "### Exercise 6\n",
    "\n",
    "OK, now we've been able to get a reasonable average income number. As we can see, a major advantage of using `np.nan` is that `pandas` knows that `np.nan` observations should just be ignored when we are calculating means. \n",
    "\n",
    "But it's not enough to just get rid of the people who had `inctot` values of 9999999. We also need to know why those values were missing. Suppose, for example, that the value of 9999999 was used for anyone who made more than 100,000 dollars: if we just dropped those people, then our estimate of average income wouldn't mean much, would it?\n",
    "\n",
    "So let's make sure we understand *why* data is missing for some people. If you recall from our last exercise, it seemed to be the case that most of the people who had incomes of 9999999 were children. Let's make sure that's true by looking at the distribution of the variable `age` for people for whom `inctot` is missing (i.e. subset the data to people with `inctot` missing, then look at the values of `age` with `value_counts()`).\n",
    "\n",
    "Then do the opposite: look at the distribution of the `age` variable for people who whom `inctot` is *not* missing. \n",
    "\n",
    "Can you determine when 9999999 was being used? Is it ok we're excluding those people from our analysis?\n",
    "\n",
    "Note: In this data, Python doesn't understand `age` is a number; it thinks it is a string because the original data has categories like \"90 (90+ in 1980 and 1990)\" and \"less than 1 year old\". So you can't just use `min()` or `max()`. We'll discuss converting string variables into numbers in a future class."
   ]
  },
  {
   "cell_type": "code",
   "execution_count": 170,
   "metadata": {},
   "outputs": [
    {
     "data": {
      "text/plain": [
       "age\n",
       "50                         0\n",
       "62                         0\n",
       "6                       3524\n",
       "49                         0\n",
       "87                         0\n",
       "81                         0\n",
       "54                         0\n",
       "21                         0\n",
       "47                         0\n",
       "67                         0\n",
       "42                         0\n",
       "59                         0\n",
       "19                         0\n",
       "28                         0\n",
       "82                         0\n",
       "44                         0\n",
       "76                         0\n",
       "33                         0\n",
       "17                         0\n",
       "31                         0\n",
       "83                         0\n",
       "73                         0\n",
       "60                         0\n",
       "63                         0\n",
       "95                         0\n",
       "92                         0\n",
       "80                         0\n",
       "55                         0\n",
       "69                         0\n",
       "43                         0\n",
       "16                         0\n",
       "53                         0\n",
       "23                         0\n",
       "26                         0\n",
       "37                         0\n",
       "4                       3318\n",
       "57                         0\n",
       "48                         0\n",
       "22                         0\n",
       "74                         0\n",
       "39                         0\n",
       "65                         0\n",
       "79                         0\n",
       "7                       3527\n",
       "11                      3791\n",
       "77                         0\n",
       "45                         0\n",
       "10                      3997\n",
       "less than 1 year old    3150\n",
       "70                         0\n",
       "Name: count, dtype: int64"
      ]
     },
     "execution_count": 170,
     "metadata": {},
     "output_type": "execute_result"
    }
   ],
   "source": [
    "# check for missing values\n",
    "acs[\"inctot\"].value_counts(dropna=False)\n",
    "\n",
    "# subset the data to people with `inctot` missing then look at the values of `age` with `value_counts()\n",
    "subset_age_null = acs.loc[acs[\"inctot\"].isnull(), \"age\"].value_counts()\n",
    "\n",
    "# sample 50 random rows from the subset\n",
    "subset_age_null.sample(50)"
   ]
  },
  {
   "cell_type": "code",
   "execution_count": 171,
   "metadata": {},
   "outputs": [
    {
     "data": {
      "text/plain": [
       "age\n",
       "34                           3942\n",
       "31                           3880\n",
       "21                           3740\n",
       "42                           3603\n",
       "1                               0\n",
       "79                           1758\n",
       "38                           3718\n",
       "23                           3551\n",
       "59                           4776\n",
       "less than 1 year old            0\n",
       "29                           3810\n",
       "11                              0\n",
       "82                           1464\n",
       "86                           1041\n",
       "57                           4720\n",
       "53                           4600\n",
       "30                           3917\n",
       "54                           4821\n",
       "28                           3808\n",
       "71                           2917\n",
       "74                           2819\n",
       "85                           1117\n",
       "22                           3617\n",
       "26                           3781\n",
       "52                           4418\n",
       "68                           3951\n",
       "88                            859\n",
       "48                           3956\n",
       "44                           3656\n",
       "90 (90+ in 1980 and 1990)     480\n",
       "35                           3867\n",
       "73                           2781\n",
       "60                           4950\n",
       "77                           2089\n",
       "84                           1157\n",
       "27                           3884\n",
       "49                           3940\n",
       "9                               0\n",
       "20                           3992\n",
       "62                           4614\n",
       "91                            227\n",
       "67                           4055\n",
       "83                           1335\n",
       "36                           3834\n",
       "18                           4496\n",
       "8                               0\n",
       "58                           4734\n",
       "56                           4776\n",
       "10                              0\n",
       "45                           3939\n",
       "Name: count, dtype: int64"
      ]
     },
     "execution_count": 171,
     "metadata": {},
     "output_type": "execute_result"
    }
   ],
   "source": [
    "# then look at the values of `age` with `value_counts()\n",
    "subset_age_not_null = acs.loc[acs[\"inctot\"].notnull(), \"age\"].value_counts()\n",
    "\n",
    "# sample 50 random rows from the subset\n",
    "subset_age_not_null.sample(50)"
   ]
  },
  {
   "cell_type": "markdown",
   "metadata": {},
   "source": [
    "> After this analysis, we find that the missing values (9999999) are predominantly children, which is a group that don't typically have an income, then excluding them from the income analysis should be fine as they wouldn't be relevant to income statistics. "
   ]
  },
  {
   "cell_type": "markdown",
   "metadata": {},
   "source": [
    "### Exercise 7\n",
    "\n",
    "Great, so now we know why those people had missing data, and we're ok with excluding them. \n",
    "\n",
    "But as we previously noted, there are also a lot of observations of zero income in our data, and it's not clear that we want everyone with a zero-income *should* be included in this average, since those may be people who are retired, or in school. \n",
    "\n",
    "Let's limit our attention to people who are currently working by subsetting to only employed respondents. We can do this using `empstat`. Remember you can use `value_counts()` to see what values of `empstat` are in the data!"
   ]
  },
  {
   "cell_type": "code",
   "execution_count": 172,
   "metadata": {},
   "outputs": [
    {
     "name": "stdout",
     "output_type": "stream",
     "text": [
      "empstat\n",
      "employed              148758\n",
      "not in labor force    104676\n",
      "n/a                    57843\n",
      "unemployed              7727\n",
      "Name: count, dtype: int64\n"
     ]
    },
    {
     "data": {
      "text/plain": [
       "year  datanum  serial   cbserial      numprec          subsamp  hhwt  hhtype                             cluster       adjust    cpi99  region                   stateicp        statefip        countyicp  countyfip  metro                                                                       city                                      citypop  strata  gq                                farm      ownershp                      ownershpd                    mortgage                                       mortgag2               mortamt1  mortamt2  respmode   pernum  cbpernum  perwt  slwt  famunit                                    sex     age  marst                    birthyr  race                          raced                         hispan        hispand       bpl             bpld            citizen  yrnatur  yrimmig  language  languaged  speakeng                  hcovany                         hcovpriv                                   hinsemp                               hinspur                           hinstri                       hcovpub                                   hinscaid                        hinscare  hinsva                   hinsihs                                     school             educ                educd                                         gradeatt               gradeattd              schltype       degfield         degfieldd                         degfield2  degfield2d  empstat   empstatd  labforce                 occ   ind   classwkr         classwkrd                    looking               availble                 inctot    ftotinc  incwage  incbus00  incss  incwelfr  incinvst  incretir  incsupp  incother  incearn  poverty  migrate1              migrate1d                                         migplac1  migcounty1  migmet131                 vetdisab              diffrem                  diffphys                  diffmob                           diffcare  diffsens                         diffeye  diffhear\n",
       "2017  1        10       2.017000e+12  1 person record  40       13    male householder, living alone     2.017000e+12  1.011189  0.679  east south central div   alabama         alabama         0          0          metropolitan status indeterminable (mixed)                                  not in identifiable city (or size group)  0        250001  households under 1970 definition  non-farm  rented                        with cash rent               n/a                                            n/a                    0         0         internet   1       1         13     13    1st family in household or group quarters  male    61   married, spouse absent   1956     white                         white                         not hispanic  not hispanic  florida         florida         n/a      n/a      0        english   english    yes, speaks only english  with health insurance coverage  with private health insurance coverage     has insurance through employer/union  no insurance purchased directly   no insurance through tricare  without public health insurance coverage  no insurance through medicaid   no        no insurance through va  no insurance through indian health service  no, not in school  4 years of college  bachelor's degree                             n/a                    n/a                    not enrolled   engineering      mechanical engineering            n/a        n/a         employed  at work   yes, in the labor force  1410  570   works for wages  wage/salary, private         not reported          not reported             160000.0  160000   160000   0         0      0         0         0         0        0         160000   501      same house            same house                                        n/a       0           not in identifiable area  n/a                   no cognitive difficulty  no ambulatory difficulty  no independent living difficulty  no        no vision or hearing difficulty  no       no          1\n",
       "               923534   2.017001e+12  5                22       160   married-couple family household    2.017009e+12  1.011189  0.679  south atlantic division  north carolina  north carolina  0          0          metropolitan status indeterminable (mixed)                                  not in identifiable city (or size group)  0        150037  households under 1970 definition  non-farm  owned or being bought (loan)  owned with mortgage or loan  yes, mortgaged/ deed of trust or similar debt  yes, home equity loan  1800      500       internet   1       1         160    160   1st family in household or group quarters  male    49   married, spouse present  1968     white                         white                         not hispanic  not hispanic  connecticut     connecticut     n/a      n/a      0        english   english    yes, speaks only english  with health insurance coverage  with private health insurance coverage     has insurance through employer/union  no insurance purchased directly   no insurance through tricare  without public health insurance coverage  no insurance through medicaid   no        no insurance through va  no insurance through indian health service  no, not in school  4 years of college  bachelor's degree                             n/a                    n/a                    not enrolled   social sciences  political science and government  n/a        n/a         employed  at work   yes, in the labor force  110   7870  works for wages  wage/salary at non-profit    not reported          not reported             89000.0   99000    89000    0         0      0         0         0         0        0         89000    339      same house            same house                                        n/a       0           not in identifiable area  no disability rating  no cognitive difficulty  no ambulatory difficulty  no independent living difficulty  no        no vision or hearing difficulty  no       no          1\n",
       "               923723   2.017001e+12  5                24       96    married-couple family household    2.017009e+12  1.011189  0.679  south atlantic division  north carolina  north carolina  510        51         in metropolitan area: central/principal city status indeterminable (mixed)  not in identifiable city (or size group)  0        500337  households under 1970 definition  non-farm  rented                        with cash rent               n/a                                            n/a                    0         0         internet   1       1         95     95    1st family in household or group quarters  female  49   married, spouse present  1968     black/african american/negro  black/african american/negro  not hispanic  not hispanic  new york        new york        n/a      n/a      0        english   english    yes, speaks only english  with health insurance coverage  with private health insurance coverage     has insurance through employer/union  has insurance purchased directly  no insurance through tricare  without public health insurance coverage  no insurance through medicaid   no        no insurance through va  no insurance through indian health service  yes, in school     2 years of college  associate's degree, type not specified        college undergraduate  college undergraduate  public school  n/a              n/a                               n/a        n/a         employed  at work   yes, in the labor force  5700  7870  works for wages  wage/salary, private         not reported          not reported             23700.0   52700    23700    0         0      0         0         0         0        0         23700    179      same house            same house                                        n/a       0           not in identifiable area  n/a                   no cognitive difficulty  no ambulatory difficulty  no independent living difficulty  no        no vision or hearing difficulty  no       no          1\n",
       "               923727   2.017001e+12  2                3        305   male householder, no wife present  2.017009e+12  1.011189  0.679  south atlantic division  north carolina  north carolina  0          0          not in metropolitan area                                                    not in identifiable city (or size group)  0        260037  households under 1970 definition  non-farm  rented                        with cash rent               n/a                                            n/a                    0         0         cati/capi  1       1         305    305   1st family in household or group quarters  male    59   divorced                 1958     white                         white                         not hispanic  not hispanic  north carolina  north carolina  n/a      n/a      0        english   english    yes, speaks only english  with health insurance coverage  with private health insurance coverage     has insurance through employer/union  no insurance purchased directly   no insurance through tricare  without public health insurance coverage  no insurance through medicaid   no        no insurance through va  no insurance through indian health service  no, not in school  grade 12            regular high school diploma                   n/a                    n/a                    not enrolled   n/a              n/a                               n/a        n/a         employed  at work   yes, in the labor force  9130  6170  works for wages  wage/salary, private         not reported          not reported             21000.0   21000    21000    0         0      0         0         0         0        0         21000    125      same house            same house                                        n/a       0           not in identifiable area  n/a                   no cognitive difficulty  no ambulatory difficulty  no independent living difficulty  no        no vision or hearing difficulty  no       no          1\n",
       "               923737   2.017001e+12  2                95       8     male householder, no wife present  2.017009e+12  1.011189  0.679  south atlantic division  north carolina  north carolina  10         1          in metropolitan area: central/principal city status indeterminable (mixed)  not in identifiable city (or size group)  0        160037  households under 1970 definition  non-farm  owned or being bought (loan)  owned with mortgage or loan  yes, mortgaged/ deed of trust or similar debt  no                     980       0         mail       2       2         14     14    1st family in household or group quarters  female  72   widowed                  1945     black/african american/negro  black/african american/negro  not hispanic  not hispanic  north carolina  north carolina  n/a      n/a      0        english   english    yes, speaks only english  with health insurance coverage  without private health insurance coverage  no insurance through employer/union   no insurance purchased directly   no insurance through tricare  with public health insurance coverage     no insurance through medicaid   yes       no insurance through va  no insurance through indian health service  yes, in school     grade 12            some college, but less than 1 year            college undergraduate  college undergraduate  public school  n/a              n/a                               n/a        n/a         employed  at work   yes, in the labor force  2540  7860  works for wages  local govt employee          not reported          not reported             149310.0  199310   123000   0         13200  0         1800      10800     0        510       123000   501      same house            same house                                        n/a       0           not in identifiable area  n/a                   no cognitive difficulty  no ambulatory difficulty  no independent living difficulty  no        no vision or hearing difficulty  no       no          1\n",
       "                                                                                                                                                                                                                                                                                                                                                                                                                                                                                                                                                                                                                                                                                                                                                                                                                                                                                                                                                                                                                                                                                                                                                                                                                                                                                                                                                                                                                                                                                                                                                                                                                                                                                                                                                                                                                                                                                                                                                                                                                                                   ..\n",
       "               456281   2.017001e+12  6                91       103   married-couple family household    2.017005e+12  1.011189  0.679  east north central div   illinois        illinois        1130       113        in metropolitan area: central/principal city status indeterminable (mixed)  not in identifiable city (or size group)  0        200017  households under 1970 definition  non-farm  owned or being bought (loan)  owned with mortgage or loan  yes, contract to purchase                      no                     760       0         cati/capi  1       1         103    103   1st family in household or group quarters  female  51   married, spouse present  1966     white                         white                         not hispanic  not hispanic  illinois        illinois        n/a      n/a      0        english   english    yes, speaks only english  with health insurance coverage  with private health insurance coverage     has insurance through employer/union  no insurance purchased directly   no insurance through tricare  without public health insurance coverage  no insurance through medicaid   no        no insurance through va  no insurance through indian health service  no, not in school  1 year of college   1 or more years of college credit, no degree  n/a                    n/a                    not enrolled   n/a              n/a                               n/a        n/a         employed  at work   yes, in the labor force  4600  8470  works for wages  wage/salary, private         not reported          not reported             22000.0   90000    22000    0         0      0         0         0         0        0         22000    266      same house            same house                                        n/a       0           not in identifiable area  n/a                   no cognitive difficulty  no ambulatory difficulty  no independent living difficulty  no        no vision or hearing difficulty  no       no          1\n",
       "               456300   2.017001e+12  3                68       108   married-couple family household    2.017005e+12  1.011189  0.679  east north central div   illinois        illinois        310        31         in metropolitan area: in central/principal city                             chicago, il                               27165    352017  households under 1970 definition  non-farm  owned or being bought (loan)  owned with mortgage or loan  yes, mortgaged/ deed of trust or similar debt  no                     980       0         internet   3       3         183    183   2nd family in household or group quarters  male    37   never married/single     1980     white                         white                         not hispanic  not hispanic  illinois        illinois        n/a      n/a      0        english   english    yes, speaks only english  with health insurance coverage  with private health insurance coverage     has insurance through employer/union  no insurance purchased directly   no insurance through tricare  without public health insurance coverage  no insurance through medicaid   no        no insurance through va  no insurance through indian health service  no, not in school  grade 12            some college, but less than 1 year            n/a                    n/a                    not enrolled   n/a              n/a                               n/a        n/a         employed  at work   yes, in the labor force  3930  1370  works for wages  wage/salary, private         not reported          not reported             22000.0   22000    22000    0         0      0         0         0         0        0         22000    174      same house            same house                                        n/a       0           not in identifiable area  n/a                   no cognitive difficulty  no ambulatory difficulty  no independent living difficulty  no        no vision or hearing difficulty  no       no          1\n",
       "               456320   2.017001e+12  3                32       116   male householder, no wife present  2.017005e+12  1.011189  0.679  east north central div   illinois        illinois        310        31         in metropolitan area: central/principal city status indeterminable (mixed)  not in identifiable city (or size group)  0        341817  households under 1970 definition  non-farm  rented                        with cash rent               n/a                                            n/a                    0         0         internet   2       2         93     93    1st family in household or group quarters  male    16   never married/single     2001     white                         white                         not hispanic  not hispanic  illinois        illinois        n/a      n/a      0        arabic    arabic     yes, speaks very well     with health insurance coverage  without private health insurance coverage  no insurance through employer/union   no insurance purchased directly   no insurance through tricare  with public health insurance coverage     has insurance through medicaid  no        no insurance through va  no insurance through indian health service  yes, in school     grade 11            grade 11                                      grade 9 to grade 12    grade 11               public school  n/a              n/a                               n/a        n/a         employed  at work   yes, in the labor force  4050  8680  works for wages  wage/salary, private         not reported          not reported             900.0     41900    900      0         0      0         0         0         0        0         900      213      same house            same house                                        n/a       0           not in identifiable area  n/a                   no cognitive difficulty  no ambulatory difficulty  no independent living difficulty  no        no vision or hearing difficulty  no       no          1\n",
       "               456331   2.017001e+12  2                36       30    married-couple family household    2.017005e+12  1.011189  0.679  east north central div   illinois        illinois        0          0          metropolitan status indeterminable (mixed)                                  not in identifiable city (or size group)  0        20217   households under 1970 definition  non-farm  owned or being bought (loan)  owned with mortgage or loan  yes, mortgaged/ deed of trust or similar debt  no                     470       0         cati/capi  2       2         35     35    1st family in household or group quarters  male    54   married, spouse present  1963     white                         white                         not hispanic  not hispanic  kansas          kansas          n/a      n/a      0        english   english    yes, speaks only english  with health insurance coverage  with private health insurance coverage     no insurance through employer/union   has insurance purchased directly  no insurance through tricare  without public health insurance coverage  no insurance through medicaid   no        no insurance through va  no insurance through indian health service  no, not in school  grade 12            regular high school diploma                   n/a                    n/a                    not enrolled   n/a              n/a                               n/a        n/a         employed  at work   yes, in the labor force  9130  6170  self-employed    self-employed, incorporated  not reported          not reported             198000.0  224000   198000   0         0      0         0         0         0        0         198000   501      moved between states  moved between non-contiguous states               kansas    209         kansas city, mo-ks        no disability rating  no cognitive difficulty  no ambulatory difficulty  no independent living difficulty  no        no vision or hearing difficulty  no       no          1\n",
       "               1394385  2.017002e+12  1 person record  11       196   n/a                                2.017014e+12  1.011189  0.679  mountain division        wyoming         wyoming         0          0          not in metropolitan area                                                    not in identifiable city (or size group)  0        10056   other group quarters              non-farm  n/a                           n/a                          n/a                                            n/a                    0         0         n/a        1       1         196    196   1st family in household or group quarters  female  18   never married/single     1999     white                         white                         not hispanic  not hispanic  colorado        colorado        n/a      n/a      0        english   english    yes, speaks only english  with health insurance coverage  with private health insurance coverage     has insurance through employer/union  no insurance purchased directly   no insurance through tricare  without public health insurance coverage  no insurance through medicaid   no        no insurance through va  no insurance through indian health service  yes, in school     grade 12            regular high school diploma                   college undergraduate  college undergraduate  public school  n/a              n/a                               n/a        n/a         employed  at work   yes, in the labor force  4760  4970  works for wages  wage/salary, private         yes, looked for work  yes, available for work  8000.0    9999999  8000     0         0      0         0         0         0        0         8000     0        moved within state    different house, moved within state, within puma  wyoming   0           not in identifiable area  n/a                   no cognitive difficulty  no ambulatory difficulty  no independent living difficulty  no        no vision or hearing difficulty  no       no          1\n",
       "Name: count, Length: 148758, dtype: int64"
      ]
     },
     "execution_count": 172,
     "metadata": {},
     "output_type": "execute_result"
    }
   ],
   "source": [
    "# Check unique values and their counts for employment status\n",
    "print(acs[\"empstat\"].value_counts())\n",
    "\n",
    "# subsetting to only employed respondents\n",
    "subset_employment = acs.loc[acs[\"empstat\"] == \"employed\"]\n",
    "subset_employment.value_counts()\n",
    "\n",
    "# acs.loc[acs[\"empstat\"] == \"employed\"].value_counts()"
   ]
  },
  {
   "cell_type": "markdown",
   "metadata": {},
   "source": [
    "### Exercise 8\n",
    "\n",
    "Now let's estimate the racial income gap in the United States. What is the average salary for employed Black Americans, and what is the average salary for employed White Americans? In percentage terms, how much more does the average White American make than the average Black American?\n",
    "\n",
    "**Note:** these values are not quite accurate estimates. As we'll discuss in later lessons, to get completely accurate estimates from the ACS we have to take into account how people were selected to be interviewed. But you get pretty good estimates in most cases even without weights—your estimate of the racial wage gap without weights is within 5\\% of the corrected value. \n",
    "\n",
    "**Note:** This is actually an underestimate of the wage gap. The US Census treats Hispanic respondents as a sub-category of \"White.\" While all ethnic distinctions are socially constructed, and so on some level these distinctions are all deeply problematic, this coding is inconsistent with what most Americans think of when they hear the term \"White,\" a term *most* Americans think of as a category that is mutually exclusive of being Hispanic or Latino (categories which are also usually conflated in American popular discussion). With that in mind, most researchers working with US Census data split \"White\" into \"White, Hispanic\" and \"White, Non-Hispanic\" using `race` *and* `hispan`. But for the moment, just identify \"White\" respondents using the value in `race`.\n",
    "\n",
    "Store your results in `results` under the keys `\"ex8_avg_income_black\"`, `\"ex8_avg_income_white\"`, and the percentage difference as `ex8_racial_difference`. Please note the wording above when calculating the percentage difference to ensure you get the reference category correct, and interpret your result as well."
   ]
  },
  {
   "cell_type": "code",
   "execution_count": 173,
   "metadata": {},
   "outputs": [
    {
     "name": "stdout",
     "output_type": "stream",
     "text": [
      "The average salary for employed Black Americans is around $41747.95.\n",
      "The average salary for employed white Americans is around $60473.15.\n",
      "The average White American make around 44.85% more than the average Black American.\n",
      "{'ex2_avg_income': 1723646.2703978634, 'ex3_share_making_9999999': 0.1689665333350052, 'ex3_share_making_zero': 0.10557547867738336, 'ex5_avg_income': 40890.177564946454, 'ex8_avg_income_black': 41747.949905123336, 'ex8_avg_income_white': 60473.15372747098, 'ex8_racial_difference': 44.85299006275197}\n"
     ]
    }
   ],
   "source": [
    "# check race value counts\n",
    "subset_employment[\"race\"].value_counts()\n",
    "\n",
    "# 1. Average salary for employed Black Americans\n",
    "ex8_avg_income_black = subset_employment[\n",
    "    subset_employment[\"race\"] == \"black/african american/negro\"\n",
    "][\"inctot\"].mean()\n",
    "\n",
    "# 2. Average salary for employed White Americans\n",
    "ex8_avg_income_white = subset_employment[subset_employment[\"race\"] == \"white\"][\n",
    "    \"inctot\"\n",
    "].mean()\n",
    "\n",
    "# 3. Percentage difference\n",
    "ex8_racial_difference = (\n",
    "    (ex8_avg_income_white - ex8_avg_income_black) / ex8_avg_income_black\n",
    ") * 100\n",
    "\n",
    "print(\n",
    "    f\"The average salary for employed Black Americans is around ${round(ex8_avg_income_black,2)}.\"\n",
    ")\n",
    "print(\n",
    "    f\"The average salary for employed white Americans is around ${round(ex8_avg_income_white,2)}.\"\n",
    ")\n",
    "\n",
    "print(\n",
    "    f\"The average White American make around {round(ex8_racial_difference,2)}% more than the average Black American.\"\n",
    ")\n",
    "\n",
    "# Store the results\n",
    "results[\"ex8_avg_income_black\"] = ex8_avg_income_black\n",
    "results[\"ex8_avg_income_white\"] = ex8_avg_income_white\n",
    "results[\"ex8_racial_difference\"] = ex8_racial_difference\n",
    "\n",
    "print(results)"
   ]
  },
  {
   "cell_type": "markdown",
   "metadata": {},
   "source": [
    "### Exercise 9\n",
    "\n",
    "\n",
    "As noted above, these estimates are not actually *quite* correct because we aren't using survey weights. To calculate a weighted average that takes into account survey weights, you need to use the following formula:\n",
    "\n",
    "$$weighted\\_mean\\_of\\_x = \\frac{\\sum_i x_i * weight_i}{\\sum_i weight_i}$$\n",
    "\n",
    "(As you can see, when $weight_i$ is constant for all observations, this just simplifies to our normal formula for mean values. It is only when weights vary across individuals that weights must be explicitly addressed).\n",
    "\n",
    "In this data, weights are stored in the variable `perwt`, which is the number of people for which each observation is a stand-in (the inverse of that observations sampling probability). \n",
    "\n",
    "Using the formula, re-calculate the *weighted* average income for both populations and store them as `ex9_avg_income_white` and `ex9_avg_income_black`.\n"
   ]
  },
  {
   "cell_type": "code",
   "execution_count": 174,
   "metadata": {},
   "outputs": [
    {
     "name": "stdout",
     "output_type": "stream",
     "text": [
      "The weighted average salary for employed Black Americans is around $40430.95.\n",
      "The weighted average salary for employed white Americans is around $58361.48.\n",
      "{'ex2_avg_income': 1723646.2703978634, 'ex3_share_making_9999999': 0.1689665333350052, 'ex3_share_making_zero': 0.10557547867738336, 'ex5_avg_income': 40890.177564946454, 'ex8_avg_income_black': 41747.949905123336, 'ex8_avg_income_white': 60473.15372747098, 'ex8_racial_difference': 44.85299006275197, 'ex9_avg_income_black': 40430.953355310274, 'ex9_avg_income_white': 58361.48196061399}\n"
     ]
    }
   ],
   "source": [
    "# Weighted average salary for employed White Americans\n",
    "white_subset = subset_employment[subset_employment[\"race\"] == \"white\"]\n",
    "ex9_avg_income_white = (\n",
    "    white_subset[\"inctot\"] * white_subset[\"perwt\"]\n",
    ").sum() / white_subset[\"perwt\"].sum()\n",
    "\n",
    "# Weighted average salary for employed Black Americans\n",
    "black_subset = subset_employment[\n",
    "    subset_employment[\"race\"] == \"black/african american/negro\"\n",
    "]\n",
    "ex9_avg_income_black = (\n",
    "    black_subset[\"inctot\"] * black_subset[\"perwt\"]\n",
    ").sum() / black_subset[\"perwt\"].sum()\n",
    "\n",
    "print(\n",
    "    f\"The weighted average salary for employed Black Americans is around ${round(ex9_avg_income_black,2)}.\"\n",
    ")\n",
    "print(\n",
    "    f\"The weighted average salary for employed white Americans is around ${round(ex9_avg_income_white,2)}.\"\n",
    ")\n",
    "\n",
    "# Store the results\n",
    "results[\"ex9_avg_income_black\"] = ex9_avg_income_black\n",
    "results[\"ex9_avg_income_white\"] = ex9_avg_income_white\n",
    "\n",
    "print(results)"
   ]
  },
  {
   "cell_type": "markdown",
   "metadata": {},
   "source": [
    "### Exercise 10\n",
    "\n",
    "Now calculate the weighted average income gap between *non-Hispanic* White Americans and Black Americans. What percentage more do employed White non-Hispanic Americans earn than employed Black Americans? Store as `\"ex10_wage_gap\"`."
   ]
  },
  {
   "cell_type": "code",
   "execution_count": 175,
   "metadata": {},
   "outputs": [
    {
     "name": "stdout",
     "output_type": "stream",
     "text": [
      "hispan\n",
      "not hispanic    128293\n",
      "mexican          12437\n",
      "other             5302\n",
      "puerto rican      1787\n",
      "cuban              939\n",
      "Name: count, dtype: int64\n",
      "The weighted average income gap between non-Hispanic white Americans and black Americans is about 52.53%.\n",
      "{'ex2_avg_income': 1723646.2703978634, 'ex3_share_making_9999999': 0.1689665333350052, 'ex3_share_making_zero': 0.10557547867738336, 'ex5_avg_income': 40890.177564946454, 'ex8_avg_income_black': 41747.949905123336, 'ex8_avg_income_white': 60473.15372747098, 'ex8_racial_difference': 44.85299006275197, 'ex9_avg_income_black': 40430.953355310274, 'ex9_avg_income_white': 58361.48196061399, 'ex10_wage_gap': 52.52989147705372}\n"
     ]
    }
   ],
   "source": [
    "# observe unique values in the hispan column to identify non-Hispanic Whites\n",
    "print(subset_employment[\"hispan\"].value_counts())\n",
    "\n",
    "# Subset for employed non-Hispanic White Americans\n",
    "white_non_hispanic_subset = subset_employment[\n",
    "    (subset_employment[\"race\"] == \"white\")\n",
    "    & (subset_employment[\"hispan\"] == \"not hispanic\")\n",
    "]\n",
    "\n",
    "# Calculate the weighted average for non-Hispanic White Americans\n",
    "weighted_avg_income_white_non_hispanic = (\n",
    "    white_non_hispanic_subset[\"inctot\"] * white_non_hispanic_subset[\"perwt\"]\n",
    ").sum() / white_non_hispanic_subset[\"perwt\"].sum()\n",
    "\n",
    "# Wage gap calculation\n",
    "wage_gap = (\n",
    "    (weighted_avg_income_white_non_hispanic - ex9_avg_income_black)\n",
    "    / ex9_avg_income_black\n",
    ") * 100\n",
    "\n",
    "print(\n",
    "    f\"The weighted average income gap between non-Hispanic white Americans and black Americans is about {round(wage_gap,2)}%.\"\n",
    ")\n",
    "# Store the result\n",
    "results[\"ex10_wage_gap\"] = wage_gap\n",
    "\n",
    "print(results)"
   ]
  },
  {
   "cell_type": "markdown",
   "metadata": {},
   "source": [
    "### Exercise 11\n",
    "\n",
    "Is that greater or less than the difference you found in Exercise 8? Why do you think that's the case?"
   ]
  },
  {
   "cell_type": "markdown",
   "metadata": {},
   "source": [
    "> + **Comparison of Income Gaps:**\n",
    "  > - In Exercise 8, when analyzing the income gap between the general \"White\" population and \"Black\" Americans, we found that, on average, a White American makes around 44.85% more than a Black American.\n",
    "  > - However, when we refined our analysis to consider only the weighted average income gap between \"non-Hispanic White\" Americans and \"Black\" Americans, the income gap increased to 52.53%. This shows that the disparity is even more pronounced when we exclude individuals identified as Hispanic and others.\n",
    "\n",
    "> + **Reason for the Difference:**\n",
    "  > - The category \"White\" in our data encompasses a broader range of subgroups, including \"non-Hispanic\", \"Mexican\", \"Puerto Rican\", \"Cuban\", and \"other\".\n",
    "  > - Based on our dataset and the assumption about average incomes, it seems that Hispanic categories like Mexican, Puerto Rican, and Cuban may have a lower average income compared to the non-Hispanic White subgroup. \n",
    "  > - When these subgroups with potentially lower incomes are included in the broader \"White\" category, they exert a downward pull on the average income for that entire group. As a result, the observed income gap between the generalized White population and Black Americans appears to be smaller.\n",
    "  > - On the other hand, when we focus our analysis on just the \"non-Hispanic White\" subgroup, we are potentially looking at a population with a higher average income. Consequently, the income disparity between this subgroup and Black Americans appears larger."
   ]
  },
  {
   "cell_type": "code",
   "execution_count": 176,
   "metadata": {},
   "outputs": [],
   "source": [
    "assert set(results.keys()) == {\n",
    "    \"ex2_avg_income\",\n",
    "    \"ex3_share_making_9999999\",\n",
    "    \"ex3_share_making_zero\",\n",
    "    \"ex5_avg_income\",\n",
    "    \"ex8_avg_income_black\",\n",
    "    \"ex8_avg_income_white\",\n",
    "    \"ex8_racial_difference\",\n",
    "    \"ex9_avg_income_black\",\n",
    "    \"ex9_avg_income_white\",\n",
    "    \"ex10_wage_gap\",\n",
    "}"
   ]
  }
 ],
 "metadata": {
  "kernelspec": {
   "display_name": "Python 3.10.6 ('base')",
   "language": "python",
   "name": "python3"
  },
  "language_info": {
   "codemirror_mode": {
    "name": "ipython",
    "version": 3
   },
   "file_extension": ".py",
   "mimetype": "text/x-python",
   "name": "python",
   "nbconvert_exporter": "python",
   "pygments_lexer": "ipython3",
   "version": "3.11.5"
  },
  "vscode": {
   "interpreter": {
    "hash": "718fed28bf9f8c7851519acf2fb923cd655120b36de3b67253eeb0428bd33d2d"
   }
  }
 },
 "nbformat": 4,
 "nbformat_minor": 4
}
