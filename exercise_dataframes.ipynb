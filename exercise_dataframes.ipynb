{
 "cells": [
  {
   "cell_type": "markdown",
   "metadata": {},
   "source": [
    "# Estimating Labor Market Returns to Education\n",
    "\n",
    "In this exercise, we're going to use data from the [American Communities Survey (ACS)](https://usa.ipums.org/usa/acs.shtml) to study the relationship betwen educational attainment and wages. The ACS is a survey conducted by the United States Census Bureau (though it is not \"The Census,\" which is a counting of every person in the United States that takes place every 10 years) to measure numerous features of the US population. The data we will be working with includes about 100 variables from the 2017 ACS survey, and is a 10% sample of the ACS (which itself is a 1% sample of the US population, so we're working with about a 0.1% sample of the United States). \n",
    "\n",
    "This data comes from [IPUMS](https://usa.ipums.org/usa/), which provides a very useful tool for getting subsets of major survey datasets, not just from the US, but [from government statistical agencies the world over](https://international.ipums.org/international-action/sample_details).\n",
    "\n",
    "This is *real* data, meaning that you are being provided the data as it is provided by IPUMS. Documentation for all variables used in this data can be found [here](https://usa.ipums.org/usa-action/variables/group) (you can either search by variable name to figure out the meaning of a variable in this data, or search for something you want to see if a variable with the right name is in this data). \n",
    "\n",
    "Within this data is information on both the educational background and current earnings of a representative sample of Americans. We will now use this data to estimate the labor-market returns to graduating high school and college, and to learn something about the meaning of an educational degree. "
   ]
  },
  {
   "cell_type": "markdown",
   "metadata": {},
   "source": [
    "## Gradescope Autograding\n",
    "\n",
    "Please follow [all standard guidance](https://www.practicaldatascience.org/html/autograder_guidelines.html) for submitting this assignment to the Gradescope autograder, including storing your solutions in a dictionary called `results` and ensuring your notebook runs from the start to completion without any errors.\n",
    "\n",
    "For this assignment, please name your file `exercise_dataframes.ipynb` before uploading.\n",
    "\n",
    "You can check that you have answers for all questions in your `results` dictionary with this code:\n",
    "\n",
    "```python\n",
    "assert set(results.keys()) == {\n",
    "    \"ex2_num_obs\",\n",
    "    \"ex3_num_vars\",\n",
    "    \"ex8_updated_num_obs\",\n",
    "    \"ex9_updated_num_obs\",\n",
    "    \"ex11_grade12_income\",\n",
    "    \"ex12_college_income\",\n",
    "    \"ex12_college_income_pct\",\n",
    "    \"ex14_high_school_dropout\",\n",
    "    \"ex15_grade_9\",\n",
    "    \"ex15_grade_10\",\n",
    "    \"ex15_grade_11\",\n",
    "    \"ex15_grade_12\",\n",
    "    \"ex15_4_years_of_college\",\n",
    "    \"ex15_graduate\",\n",
    "}\n",
    "```\n",
    "\n",
    "### Submission Limits\n",
    "\n",
    "Please remember that you are **only allowed three submissions to the autograder.** Your last submission (if you submit 3 or fewer times), or your third submission (if you submit more than 3 times) will determine your grade Submissions that error out will **not** count against this total.\n"
   ]
  },
  {
   "cell_type": "code",
   "execution_count": 25,
   "metadata": {},
   "outputs": [],
   "source": [
    "import pandas as pd\n",
    "import numpy as np\n",
    "\n",
    "pd.set_option(\"mode.copy_on_write\", True)\n",
    "\n",
    "# Create a results dictionary\n",
    "results = {}"
   ]
  },
  {
   "cell_type": "markdown",
   "metadata": {},
   "source": [
    "## Exercises"
   ]
  },
  {
   "cell_type": "markdown",
   "metadata": {},
   "source": [
    "### Exercise 1\n",
    "\n",
    "Data for these [exercises can be found here](https://github.com/nickeubank/MIDS_Data/tree/master/US_AmericanCommunitySurvey). \n",
    "\n",
    "Import `US_ACS_2017_10pct_sample.dta` into a pandas DataFrame (read it directly from a URL to help the autograder, please). \n",
    "\n",
    "This can be done with the command `pd.read_stata`, which will read in files created in the program Stata (and which uses the file suffix `.dta`). This is a format commonly used by social scientists."
   ]
  },
  {
   "cell_type": "code",
   "execution_count": 26,
   "metadata": {},
   "outputs": [],
   "source": [
    "import pandas as pd\n",
    "\n",
    "# URL of the dataset US_ACS_2017_10pct_sample.dta\n",
    "url = \"https://github.com/nickeubank/MIDS_Data/raw/master/US_AmericanCommunitySurvey/US_ACS_2017_10pct_sample.dta\"\n",
    "\n",
    "# Reading the data from the URL into a pandas DataFrame\n",
    "acs = pd.read_stata(url)"
   ]
  },
  {
   "cell_type": "markdown",
   "metadata": {},
   "source": [
    "## Getting to Know Your Data\n",
    "\n",
    "When you get a new dataset like this, it's good to start by trying to get a feel for its contents and organization. Toy datasets you sometimes get in classes are often very small, and easy to look at, but this is a pretty large dataset, so you can't just open it up and get a good sense of it. Here are some ways to get to know your data. "
   ]
  },
  {
   "cell_type": "markdown",
   "metadata": {},
   "source": [
    "### Exercise 2\n",
    "\n",
    "How many observations are in your data? Store the answer in your `results` dictionary with the key `\"ex2_num_obs\"`."
   ]
  },
  {
   "cell_type": "code",
   "execution_count": 27,
   "metadata": {},
   "outputs": [
    {
     "name": "stdout",
     "output_type": "stream",
     "text": [
      "The number of observations in my data is 319004.\n"
     ]
    }
   ],
   "source": [
    "# df.shape[0] returns the number of rows in df\n",
    "ex2_num_obs = acs.shape[0]\n",
    "results[\"ex2_num_obs\"] = ex2_num_obs\n",
    "print(f\"The number of observations in my data is {ex2_num_obs}.\")"
   ]
  },
  {
   "cell_type": "markdown",
   "metadata": {},
   "source": [
    "### Exercise 3\n",
    "\n",
    "How many variables are in your data? Store the answer in your `results` dictionary with the key `\"ex3_num_vars\"`."
   ]
  },
  {
   "cell_type": "code",
   "execution_count": 28,
   "metadata": {},
   "outputs": [
    {
     "name": "stdout",
     "output_type": "stream",
     "text": [
      "The number of variables in my data is 104.\n"
     ]
    }
   ],
   "source": [
    "# df.shape[1] returns the number of columns in df\n",
    "ex3_num_vars = acs.shape[1]\n",
    "results[\"ex3_num_vars\"] = ex3_num_vars\n",
    "\n",
    "print(f\"The number of variables in my data is {ex3_num_vars}.\")"
   ]
  },
  {
   "cell_type": "markdown",
   "metadata": {},
   "source": [
    "### Exercise 4\n",
    "\n",
    " Let's see what variables are in this dataset. First, try to see them all using the command:\n",
    "\n",
    "\n",
    "```python\n",
    "acs.columns\n",
    "```"
   ]
  },
  {
   "cell_type": "code",
   "execution_count": 29,
   "metadata": {},
   "outputs": [
    {
     "data": {
      "text/plain": [
       "Index(['year', 'datanum', 'serial', 'cbserial', 'numprec', 'subsamp', 'hhwt',\n",
       "       'hhtype', 'cluster', 'adjust',\n",
       "       ...\n",
       "       'migcounty1', 'migmet131', 'vetdisab', 'diffrem', 'diffphys', 'diffmob',\n",
       "       'diffcare', 'diffsens', 'diffeye', 'diffhear'],\n",
       "      dtype='object', length=104)"
      ]
     },
     "execution_count": 29,
     "metadata": {},
     "output_type": "execute_result"
    }
   ],
   "source": [
    "acs.columns"
   ]
  },
  {
   "cell_type": "markdown",
   "metadata": {},
   "source": [
    "As you will see, `python` doesn't like to print out all the different variables when there are this many in a dataset. \n",
    "\n",
    "To get everything printed out, we can loop over all the columns and print them one at a time with the command:\n",
    "\n",
    "```\n",
    "for c in acs.columns: print(c)\n",
    "```\n",
    "\n",
    "It's definitely a bit of a hack, but honestly a pretty useful one!"
   ]
  },
  {
   "cell_type": "code",
   "execution_count": 30,
   "metadata": {},
   "outputs": [
    {
     "name": "stdout",
     "output_type": "stream",
     "text": [
      "year\n",
      "datanum\n",
      "serial\n",
      "cbserial\n",
      "numprec\n",
      "subsamp\n",
      "hhwt\n",
      "hhtype\n",
      "cluster\n",
      "adjust\n",
      "cpi99\n",
      "region\n",
      "stateicp\n",
      "statefip\n",
      "countyicp\n",
      "countyfip\n",
      "metro\n",
      "city\n",
      "citypop\n",
      "strata\n",
      "gq\n",
      "farm\n",
      "ownershp\n",
      "ownershpd\n",
      "mortgage\n",
      "mortgag2\n",
      "mortamt1\n",
      "mortamt2\n",
      "respmode\n",
      "pernum\n",
      "cbpernum\n",
      "perwt\n",
      "slwt\n",
      "famunit\n",
      "sex\n",
      "age\n",
      "marst\n",
      "birthyr\n",
      "race\n",
      "raced\n",
      "hispan\n",
      "hispand\n",
      "bpl\n",
      "bpld\n",
      "citizen\n",
      "yrnatur\n",
      "yrimmig\n",
      "language\n",
      "languaged\n",
      "speakeng\n",
      "hcovany\n",
      "hcovpriv\n",
      "hinsemp\n",
      "hinspur\n",
      "hinstri\n",
      "hcovpub\n",
      "hinscaid\n",
      "hinscare\n",
      "hinsva\n",
      "hinsihs\n",
      "school\n",
      "educ\n",
      "educd\n",
      "gradeatt\n",
      "gradeattd\n",
      "schltype\n",
      "degfield\n",
      "degfieldd\n",
      "degfield2\n",
      "degfield2d\n",
      "empstat\n",
      "empstatd\n",
      "labforce\n",
      "occ\n",
      "ind\n",
      "classwkr\n",
      "classwkrd\n",
      "looking\n",
      "availble\n",
      "inctot\n",
      "ftotinc\n",
      "incwage\n",
      "incbus00\n",
      "incss\n",
      "incwelfr\n",
      "incinvst\n",
      "incretir\n",
      "incsupp\n",
      "incother\n",
      "incearn\n",
      "poverty\n",
      "migrate1\n",
      "migrate1d\n",
      "migplac1\n",
      "migcounty1\n",
      "migmet131\n",
      "vetdisab\n",
      "diffrem\n",
      "diffphys\n",
      "diffmob\n",
      "diffcare\n",
      "diffsens\n",
      "diffeye\n",
      "diffhear\n"
     ]
    }
   ],
   "source": [
    "for c in acs.columns:\n",
    "    print(c)"
   ]
  },
  {
   "cell_type": "markdown",
   "metadata": {},
   "source": [
    "### Exercise 5\n",
    "\n",
    "That's a *lot* of variables, and definitely more than we need. In general, life is easier when working with these kinds of huge datasets if you can narrow down the number of variables a little. In this exercise, we will be looking at the relationship between education and wages, we need variables for: \n",
    "\n",
    "- Age\n",
    "- Income\n",
    "- Education\n",
    "- Employment status (is the person actually working)\n",
    "\n",
    "These quantities of interest correspond to the following variables in our data: `age`, `inctot`, `educ`, and `empstat`. \n",
    "\n",
    "Subset your data to just those variables. "
   ]
  },
  {
   "cell_type": "code",
   "execution_count": 31,
   "metadata": {},
   "outputs": [],
   "source": [
    "# Create a subset dataframe of acs including Age, Income, Education, Employment status\n",
    "selected_columns = [\"age\", \"inctot\", \"educ\", \"empstat\"]\n",
    "subset_acs = acs[selected_columns].copy()"
   ]
  },
  {
   "cell_type": "markdown",
   "metadata": {},
   "source": [
    "### Exercise 6 \n",
    "\n",
    "Now that we have a more manageable number of variables, it's often very useful to look at a handful of rows of your data. The easiest way to do this is probably the `.head()` method (which will show you the first five rows), or the `tail()` method, which will show you the last five rows. \n",
    "\n",
    "But to get a good sense of your data, it's often better to use the `sample()` command, which returns a random set of rows. As the first and last rows are sometimes not representative, a random set of rows can be very helpful. Try looking at a random sample of 20 rows (note: you don't have to run `.sample()` ten times to get ten rows. Look at the `.sample` help file if you're stuck. "
   ]
  },
  {
   "cell_type": "code",
   "execution_count": 32,
   "metadata": {},
   "outputs": [
    {
     "data": {
      "text/html": [
       "<div>\n",
       "<style scoped>\n",
       "    .dataframe tbody tr th:only-of-type {\n",
       "        vertical-align: middle;\n",
       "    }\n",
       "\n",
       "    .dataframe tbody tr th {\n",
       "        vertical-align: top;\n",
       "    }\n",
       "\n",
       "    .dataframe thead th {\n",
       "        text-align: right;\n",
       "    }\n",
       "</style>\n",
       "<table border=\"1\" class=\"dataframe\">\n",
       "  <thead>\n",
       "    <tr style=\"text-align: right;\">\n",
       "      <th></th>\n",
       "      <th>age</th>\n",
       "      <th>inctot</th>\n",
       "      <th>educ</th>\n",
       "      <th>empstat</th>\n",
       "    </tr>\n",
       "  </thead>\n",
       "  <tbody>\n",
       "    <tr>\n",
       "      <th>0</th>\n",
       "      <td>4</td>\n",
       "      <td>9999999</td>\n",
       "      <td>nursery school to grade 4</td>\n",
       "      <td>n/a</td>\n",
       "    </tr>\n",
       "    <tr>\n",
       "      <th>1</th>\n",
       "      <td>17</td>\n",
       "      <td>6000</td>\n",
       "      <td>grade 11</td>\n",
       "      <td>employed</td>\n",
       "    </tr>\n",
       "    <tr>\n",
       "      <th>2</th>\n",
       "      <td>63</td>\n",
       "      <td>6150</td>\n",
       "      <td>4 years of college</td>\n",
       "      <td>employed</td>\n",
       "    </tr>\n",
       "    <tr>\n",
       "      <th>3</th>\n",
       "      <td>66</td>\n",
       "      <td>14000</td>\n",
       "      <td>grade 12</td>\n",
       "      <td>not in labor force</td>\n",
       "    </tr>\n",
       "    <tr>\n",
       "      <th>4</th>\n",
       "      <td>1</td>\n",
       "      <td>9999999</td>\n",
       "      <td>n/a or no schooling</td>\n",
       "      <td>n/a</td>\n",
       "    </tr>\n",
       "  </tbody>\n",
       "</table>\n",
       "</div>"
      ],
      "text/plain": [
       "  age   inctot                       educ             empstat\n",
       "0   4  9999999  nursery school to grade 4                 n/a\n",
       "1  17     6000                   grade 11            employed\n",
       "2  63     6150         4 years of college            employed\n",
       "3  66    14000                   grade 12  not in labor force\n",
       "4   1  9999999        n/a or no schooling                 n/a"
      ]
     },
     "execution_count": 32,
     "metadata": {},
     "output_type": "execute_result"
    }
   ],
   "source": [
    "# Display the first few rows of the subset dataframe\n",
    "subset_acs.head()"
   ]
  },
  {
   "cell_type": "code",
   "execution_count": 33,
   "metadata": {},
   "outputs": [
    {
     "data": {
      "text/html": [
       "<div>\n",
       "<style scoped>\n",
       "    .dataframe tbody tr th:only-of-type {\n",
       "        vertical-align: middle;\n",
       "    }\n",
       "\n",
       "    .dataframe tbody tr th {\n",
       "        vertical-align: top;\n",
       "    }\n",
       "\n",
       "    .dataframe thead th {\n",
       "        text-align: right;\n",
       "    }\n",
       "</style>\n",
       "<table border=\"1\" class=\"dataframe\">\n",
       "  <thead>\n",
       "    <tr style=\"text-align: right;\">\n",
       "      <th></th>\n",
       "      <th>age</th>\n",
       "      <th>inctot</th>\n",
       "      <th>educ</th>\n",
       "      <th>empstat</th>\n",
       "    </tr>\n",
       "  </thead>\n",
       "  <tbody>\n",
       "    <tr>\n",
       "      <th>318999</th>\n",
       "      <td>33</td>\n",
       "      <td>22130</td>\n",
       "      <td>4 years of college</td>\n",
       "      <td>employed</td>\n",
       "    </tr>\n",
       "    <tr>\n",
       "      <th>319000</th>\n",
       "      <td>4</td>\n",
       "      <td>9999999</td>\n",
       "      <td>nursery school to grade 4</td>\n",
       "      <td>n/a</td>\n",
       "    </tr>\n",
       "    <tr>\n",
       "      <th>319001</th>\n",
       "      <td>20</td>\n",
       "      <td>5000</td>\n",
       "      <td>grade 12</td>\n",
       "      <td>employed</td>\n",
       "    </tr>\n",
       "    <tr>\n",
       "      <th>319002</th>\n",
       "      <td>47</td>\n",
       "      <td>240000</td>\n",
       "      <td>5+ years of college</td>\n",
       "      <td>employed</td>\n",
       "    </tr>\n",
       "    <tr>\n",
       "      <th>319003</th>\n",
       "      <td>33</td>\n",
       "      <td>48000</td>\n",
       "      <td>5+ years of college</td>\n",
       "      <td>employed</td>\n",
       "    </tr>\n",
       "  </tbody>\n",
       "</table>\n",
       "</div>"
      ],
      "text/plain": [
       "       age   inctot                       educ   empstat\n",
       "318999  33    22130         4 years of college  employed\n",
       "319000   4  9999999  nursery school to grade 4       n/a\n",
       "319001  20     5000                   grade 12  employed\n",
       "319002  47   240000        5+ years of college  employed\n",
       "319003  33    48000        5+ years of college  employed"
      ]
     },
     "execution_count": 33,
     "metadata": {},
     "output_type": "execute_result"
    }
   ],
   "source": [
    "# Display the last few rows of the subset dataframe\n",
    "subset_acs.tail()"
   ]
  },
  {
   "cell_type": "code",
   "execution_count": 34,
   "metadata": {},
   "outputs": [
    {
     "data": {
      "text/html": [
       "<div>\n",
       "<style scoped>\n",
       "    .dataframe tbody tr th:only-of-type {\n",
       "        vertical-align: middle;\n",
       "    }\n",
       "\n",
       "    .dataframe tbody tr th {\n",
       "        vertical-align: top;\n",
       "    }\n",
       "\n",
       "    .dataframe thead th {\n",
       "        text-align: right;\n",
       "    }\n",
       "</style>\n",
       "<table border=\"1\" class=\"dataframe\">\n",
       "  <thead>\n",
       "    <tr style=\"text-align: right;\">\n",
       "      <th></th>\n",
       "      <th>age</th>\n",
       "      <th>inctot</th>\n",
       "      <th>educ</th>\n",
       "      <th>empstat</th>\n",
       "    </tr>\n",
       "  </thead>\n",
       "  <tbody>\n",
       "    <tr>\n",
       "      <th>274989</th>\n",
       "      <td>24</td>\n",
       "      <td>3000</td>\n",
       "      <td>grade 12</td>\n",
       "      <td>not in labor force</td>\n",
       "    </tr>\n",
       "  </tbody>\n",
       "</table>\n",
       "</div>"
      ],
      "text/plain": [
       "       age  inctot      educ             empstat\n",
       "274989  24    3000  grade 12  not in labor force"
      ]
     },
     "execution_count": 34,
     "metadata": {},
     "output_type": "execute_result"
    }
   ],
   "source": [
    "# Returns a random set of rows from the subset dataframe\n",
    "subset_acs.sample()"
   ]
  },
  {
   "cell_type": "code",
   "execution_count": 35,
   "metadata": {},
   "outputs": [
    {
     "data": {
      "text/html": [
       "<div>\n",
       "<style scoped>\n",
       "    .dataframe tbody tr th:only-of-type {\n",
       "        vertical-align: middle;\n",
       "    }\n",
       "\n",
       "    .dataframe tbody tr th {\n",
       "        vertical-align: top;\n",
       "    }\n",
       "\n",
       "    .dataframe thead th {\n",
       "        text-align: right;\n",
       "    }\n",
       "</style>\n",
       "<table border=\"1\" class=\"dataframe\">\n",
       "  <thead>\n",
       "    <tr style=\"text-align: right;\">\n",
       "      <th></th>\n",
       "      <th>age</th>\n",
       "      <th>inctot</th>\n",
       "      <th>educ</th>\n",
       "      <th>empstat</th>\n",
       "    </tr>\n",
       "  </thead>\n",
       "  <tbody>\n",
       "    <tr>\n",
       "      <th>290939</th>\n",
       "      <td>20</td>\n",
       "      <td>1400</td>\n",
       "      <td>1 year of college</td>\n",
       "      <td>not in labor force</td>\n",
       "    </tr>\n",
       "    <tr>\n",
       "      <th>124459</th>\n",
       "      <td>83</td>\n",
       "      <td>6800</td>\n",
       "      <td>grade 5, 6, 7, or 8</td>\n",
       "      <td>not in labor force</td>\n",
       "    </tr>\n",
       "    <tr>\n",
       "      <th>190165</th>\n",
       "      <td>54</td>\n",
       "      <td>265000</td>\n",
       "      <td>5+ years of college</td>\n",
       "      <td>employed</td>\n",
       "    </tr>\n",
       "    <tr>\n",
       "      <th>178595</th>\n",
       "      <td>27</td>\n",
       "      <td>25000</td>\n",
       "      <td>1 year of college</td>\n",
       "      <td>employed</td>\n",
       "    </tr>\n",
       "    <tr>\n",
       "      <th>166299</th>\n",
       "      <td>39</td>\n",
       "      <td>32600</td>\n",
       "      <td>grade 12</td>\n",
       "      <td>employed</td>\n",
       "    </tr>\n",
       "    <tr>\n",
       "      <th>303755</th>\n",
       "      <td>54</td>\n",
       "      <td>1300</td>\n",
       "      <td>grade 9</td>\n",
       "      <td>not in labor force</td>\n",
       "    </tr>\n",
       "    <tr>\n",
       "      <th>251810</th>\n",
       "      <td>16</td>\n",
       "      <td>0</td>\n",
       "      <td>grade 9</td>\n",
       "      <td>not in labor force</td>\n",
       "    </tr>\n",
       "    <tr>\n",
       "      <th>82814</th>\n",
       "      <td>74</td>\n",
       "      <td>13100</td>\n",
       "      <td>grade 12</td>\n",
       "      <td>not in labor force</td>\n",
       "    </tr>\n",
       "    <tr>\n",
       "      <th>214301</th>\n",
       "      <td>59</td>\n",
       "      <td>60000</td>\n",
       "      <td>grade 12</td>\n",
       "      <td>employed</td>\n",
       "    </tr>\n",
       "    <tr>\n",
       "      <th>249702</th>\n",
       "      <td>10</td>\n",
       "      <td>9999999</td>\n",
       "      <td>nursery school to grade 4</td>\n",
       "      <td>n/a</td>\n",
       "    </tr>\n",
       "    <tr>\n",
       "      <th>241455</th>\n",
       "      <td>60</td>\n",
       "      <td>22100</td>\n",
       "      <td>1 year of college</td>\n",
       "      <td>employed</td>\n",
       "    </tr>\n",
       "    <tr>\n",
       "      <th>134451</th>\n",
       "      <td>45</td>\n",
       "      <td>130</td>\n",
       "      <td>grade 12</td>\n",
       "      <td>not in labor force</td>\n",
       "    </tr>\n",
       "    <tr>\n",
       "      <th>41924</th>\n",
       "      <td>12</td>\n",
       "      <td>9999999</td>\n",
       "      <td>grade 5, 6, 7, or 8</td>\n",
       "      <td>n/a</td>\n",
       "    </tr>\n",
       "    <tr>\n",
       "      <th>157130</th>\n",
       "      <td>94</td>\n",
       "      <td>14400</td>\n",
       "      <td>grade 12</td>\n",
       "      <td>not in labor force</td>\n",
       "    </tr>\n",
       "    <tr>\n",
       "      <th>76589</th>\n",
       "      <td>44</td>\n",
       "      <td>80000</td>\n",
       "      <td>1 year of college</td>\n",
       "      <td>employed</td>\n",
       "    </tr>\n",
       "    <tr>\n",
       "      <th>87015</th>\n",
       "      <td>55</td>\n",
       "      <td>7400</td>\n",
       "      <td>grade 12</td>\n",
       "      <td>employed</td>\n",
       "    </tr>\n",
       "    <tr>\n",
       "      <th>278613</th>\n",
       "      <td>68</td>\n",
       "      <td>8900</td>\n",
       "      <td>1 year of college</td>\n",
       "      <td>not in labor force</td>\n",
       "    </tr>\n",
       "    <tr>\n",
       "      <th>180674</th>\n",
       "      <td>68</td>\n",
       "      <td>22500</td>\n",
       "      <td>1 year of college</td>\n",
       "      <td>not in labor force</td>\n",
       "    </tr>\n",
       "    <tr>\n",
       "      <th>87924</th>\n",
       "      <td>11</td>\n",
       "      <td>9999999</td>\n",
       "      <td>grade 5, 6, 7, or 8</td>\n",
       "      <td>n/a</td>\n",
       "    </tr>\n",
       "    <tr>\n",
       "      <th>90323</th>\n",
       "      <td>56</td>\n",
       "      <td>0</td>\n",
       "      <td>4 years of college</td>\n",
       "      <td>not in labor force</td>\n",
       "    </tr>\n",
       "  </tbody>\n",
       "</table>\n",
       "</div>"
      ],
      "text/plain": [
       "       age   inctot                       educ             empstat\n",
       "290939  20     1400          1 year of college  not in labor force\n",
       "124459  83     6800        grade 5, 6, 7, or 8  not in labor force\n",
       "190165  54   265000        5+ years of college            employed\n",
       "178595  27    25000          1 year of college            employed\n",
       "166299  39    32600                   grade 12            employed\n",
       "303755  54     1300                    grade 9  not in labor force\n",
       "251810  16        0                    grade 9  not in labor force\n",
       "82814   74    13100                   grade 12  not in labor force\n",
       "214301  59    60000                   grade 12            employed\n",
       "249702  10  9999999  nursery school to grade 4                 n/a\n",
       "241455  60    22100          1 year of college            employed\n",
       "134451  45      130                   grade 12  not in labor force\n",
       "41924   12  9999999        grade 5, 6, 7, or 8                 n/a\n",
       "157130  94    14400                   grade 12  not in labor force\n",
       "76589   44    80000          1 year of college            employed\n",
       "87015   55     7400                   grade 12            employed\n",
       "278613  68     8900          1 year of college  not in labor force\n",
       "180674  68    22500          1 year of college  not in labor force\n",
       "87924   11  9999999        grade 5, 6, 7, or 8                 n/a\n",
       "90323   56        0         4 years of college  not in labor force"
      ]
     },
     "execution_count": 35,
     "metadata": {},
     "output_type": "execute_result"
    }
   ],
   "source": [
    "# Returns a random set of 20 rows from the subset dataframe\n",
    "subset_acs.sample(n=20, random_state=1)"
   ]
  },
  {
   "cell_type": "markdown",
   "metadata": {},
   "source": [
    "### Exercise 7\n",
    "\n",
    "Do you see any immediate problems? What issues do you see? (Please do answer in markdown)"
   ]
  },
  {
   "cell_type": "markdown",
   "metadata": {},
   "source": [
    "> I observed that individuals approximately around the age of 10, presumably young children not participating in the workforce, have been recorded with unusually high incomes, approximately around $9,999,999. This seems abnormal and may represent erroneous data entries."
   ]
  },
  {
   "cell_type": "markdown",
   "metadata": {},
   "source": [
    "### Exercise 8 \n",
    "\n",
    "One problem is that many people seem to have incomes of $9,999,999. Moreover, people with those incomes seem to be very young children. \n",
    "\n",
    "What you are seeing is one method (a relatively old one) for representing missing data. In this case, the value 9999999 is being used as a **sentinel value** — a way to denote missing data that was used back in the day when there was no way to add a special data type for mossing data. In this case, it identifies observations where the person is too young to work, so their income value is missing. \n",
    "\n",
    "So let's begin by dropping anyone who has `inctot` equal to 9999999.\n",
    "\n",
    "After dropping, how many observations do you have? Save your answer in your `results` dictionary under the key `\"ex8_updated_num_obs\"`"
   ]
  },
  {
   "cell_type": "code",
   "execution_count": 36,
   "metadata": {},
   "outputs": [
    {
     "name": "stdout",
     "output_type": "stream",
     "text": [
      "The number of the obsrvations after dropping income equal to $9,999,999 is 265103.\n",
      "{'ex2_num_obs': 319004, 'ex3_num_vars': 104, 'ex8_updated_num_obs': 265103}\n"
     ]
    }
   ],
   "source": [
    "# Getting the indices of the rows where 'inctot' is 9999999\n",
    "drop_index = subset_acs[subset_acs[\"inctot\"] == 9999999].index\n",
    "\n",
    "# Dropping those rows from the DataFrame\n",
    "filtered_subset_acs = subset_acs.drop(drop_index)\n",
    "\n",
    "# Counting the number of observations after filtering\n",
    "ex8_updated_num_obs = len(filtered_subset_acs)\n",
    "\n",
    "results[\"ex8_updated_num_obs\"] = len(filtered_subset_acs)\n",
    "\n",
    "# Printing the results\n",
    "print(\n",
    "    f\"The number of the obsrvations after dropping income equal to $9,999,999 is {ex8_updated_num_obs}.\"\n",
    ")\n",
    "\n",
    "print(results)"
   ]
  },
  {
   "cell_type": "markdown",
   "metadata": {},
   "source": [
    "### Exercise 9\n",
    "\n",
    "OK, the other potential problem is that our data includes lots of people who are unemployed and people who are not in the labor force (this means they not only don't have a job, but also aren't looking for a job). For this analysis, we want to focus on the wages of people who are currently employed. So subset the dataset for the people for whom `empstat` is equal to \"employed\". \n",
    "\n",
    "Note that our decision to only look at people who are employed impacts how we should interpret the relationship we estimate between education and income. Because we are only looking at employed people, we will be estimating the relationship between education and income *for people who are employed*. That means that if education affects the *likelihood* someone is employed, we won't capture that in this analysis.\n",
    "\n",
    "(You might also want to run `.sample()` after this just to make sure you were successful in your subsetting).\n",
    "\n",
    "After this subsetting, how many observations do you have? Save your answer in your `results` dictionary under the key `\"ex9_updated_num_obs\"`"
   ]
  },
  {
   "cell_type": "code",
   "execution_count": 37,
   "metadata": {},
   "outputs": [
    {
     "data": {
      "text/html": [
       "<div>\n",
       "<style scoped>\n",
       "    .dataframe tbody tr th:only-of-type {\n",
       "        vertical-align: middle;\n",
       "    }\n",
       "\n",
       "    .dataframe tbody tr th {\n",
       "        vertical-align: top;\n",
       "    }\n",
       "\n",
       "    .dataframe thead th {\n",
       "        text-align: right;\n",
       "    }\n",
       "</style>\n",
       "<table border=\"1\" class=\"dataframe\">\n",
       "  <thead>\n",
       "    <tr style=\"text-align: right;\">\n",
       "      <th></th>\n",
       "      <th>age</th>\n",
       "      <th>inctot</th>\n",
       "      <th>educ</th>\n",
       "      <th>empstat</th>\n",
       "    </tr>\n",
       "  </thead>\n",
       "  <tbody>\n",
       "    <tr>\n",
       "      <th>34744</th>\n",
       "      <td>57</td>\n",
       "      <td>15200</td>\n",
       "      <td>1 year of college</td>\n",
       "      <td>employed</td>\n",
       "    </tr>\n",
       "    <tr>\n",
       "      <th>231975</th>\n",
       "      <td>23</td>\n",
       "      <td>30000</td>\n",
       "      <td>4 years of college</td>\n",
       "      <td>employed</td>\n",
       "    </tr>\n",
       "    <tr>\n",
       "      <th>185443</th>\n",
       "      <td>63</td>\n",
       "      <td>85000</td>\n",
       "      <td>4 years of college</td>\n",
       "      <td>employed</td>\n",
       "    </tr>\n",
       "    <tr>\n",
       "      <th>285814</th>\n",
       "      <td>40</td>\n",
       "      <td>28600</td>\n",
       "      <td>grade 12</td>\n",
       "      <td>employed</td>\n",
       "    </tr>\n",
       "    <tr>\n",
       "      <th>45685</th>\n",
       "      <td>44</td>\n",
       "      <td>38000</td>\n",
       "      <td>grade 12</td>\n",
       "      <td>employed</td>\n",
       "    </tr>\n",
       "    <tr>\n",
       "      <th>81932</th>\n",
       "      <td>51</td>\n",
       "      <td>70000</td>\n",
       "      <td>grade 12</td>\n",
       "      <td>employed</td>\n",
       "    </tr>\n",
       "    <tr>\n",
       "      <th>169563</th>\n",
       "      <td>28</td>\n",
       "      <td>46800</td>\n",
       "      <td>grade 12</td>\n",
       "      <td>employed</td>\n",
       "    </tr>\n",
       "    <tr>\n",
       "      <th>91185</th>\n",
       "      <td>35</td>\n",
       "      <td>31600</td>\n",
       "      <td>grade 12</td>\n",
       "      <td>employed</td>\n",
       "    </tr>\n",
       "    <tr>\n",
       "      <th>205801</th>\n",
       "      <td>37</td>\n",
       "      <td>20000</td>\n",
       "      <td>2 years of college</td>\n",
       "      <td>employed</td>\n",
       "    </tr>\n",
       "    <tr>\n",
       "      <th>308950</th>\n",
       "      <td>29</td>\n",
       "      <td>17500</td>\n",
       "      <td>grade 12</td>\n",
       "      <td>employed</td>\n",
       "    </tr>\n",
       "    <tr>\n",
       "      <th>133207</th>\n",
       "      <td>49</td>\n",
       "      <td>26000</td>\n",
       "      <td>grade 12</td>\n",
       "      <td>employed</td>\n",
       "    </tr>\n",
       "    <tr>\n",
       "      <th>215442</th>\n",
       "      <td>36</td>\n",
       "      <td>68000</td>\n",
       "      <td>5+ years of college</td>\n",
       "      <td>employed</td>\n",
       "    </tr>\n",
       "    <tr>\n",
       "      <th>193624</th>\n",
       "      <td>60</td>\n",
       "      <td>45000</td>\n",
       "      <td>2 years of college</td>\n",
       "      <td>employed</td>\n",
       "    </tr>\n",
       "    <tr>\n",
       "      <th>95110</th>\n",
       "      <td>69</td>\n",
       "      <td>29200</td>\n",
       "      <td>5+ years of college</td>\n",
       "      <td>employed</td>\n",
       "    </tr>\n",
       "    <tr>\n",
       "      <th>198687</th>\n",
       "      <td>25</td>\n",
       "      <td>21000</td>\n",
       "      <td>1 year of college</td>\n",
       "      <td>employed</td>\n",
       "    </tr>\n",
       "    <tr>\n",
       "      <th>69448</th>\n",
       "      <td>64</td>\n",
       "      <td>43000</td>\n",
       "      <td>grade 12</td>\n",
       "      <td>employed</td>\n",
       "    </tr>\n",
       "    <tr>\n",
       "      <th>308015</th>\n",
       "      <td>54</td>\n",
       "      <td>34900</td>\n",
       "      <td>2 years of college</td>\n",
       "      <td>employed</td>\n",
       "    </tr>\n",
       "    <tr>\n",
       "      <th>82716</th>\n",
       "      <td>48</td>\n",
       "      <td>56500</td>\n",
       "      <td>2 years of college</td>\n",
       "      <td>employed</td>\n",
       "    </tr>\n",
       "    <tr>\n",
       "      <th>22534</th>\n",
       "      <td>59</td>\n",
       "      <td>3000</td>\n",
       "      <td>5+ years of college</td>\n",
       "      <td>employed</td>\n",
       "    </tr>\n",
       "    <tr>\n",
       "      <th>29821</th>\n",
       "      <td>68</td>\n",
       "      <td>46200</td>\n",
       "      <td>1 year of college</td>\n",
       "      <td>employed</td>\n",
       "    </tr>\n",
       "  </tbody>\n",
       "</table>\n",
       "</div>"
      ],
      "text/plain": [
       "       age  inctot                 educ   empstat\n",
       "34744   57   15200    1 year of college  employed\n",
       "231975  23   30000   4 years of college  employed\n",
       "185443  63   85000   4 years of college  employed\n",
       "285814  40   28600             grade 12  employed\n",
       "45685   44   38000             grade 12  employed\n",
       "81932   51   70000             grade 12  employed\n",
       "169563  28   46800             grade 12  employed\n",
       "91185   35   31600             grade 12  employed\n",
       "205801  37   20000   2 years of college  employed\n",
       "308950  29   17500             grade 12  employed\n",
       "133207  49   26000             grade 12  employed\n",
       "215442  36   68000  5+ years of college  employed\n",
       "193624  60   45000   2 years of college  employed\n",
       "95110   69   29200  5+ years of college  employed\n",
       "198687  25   21000    1 year of college  employed\n",
       "69448   64   43000             grade 12  employed\n",
       "308015  54   34900   2 years of college  employed\n",
       "82716   48   56500   2 years of college  employed\n",
       "22534   59    3000  5+ years of college  employed\n",
       "29821   68   46200    1 year of college  employed"
      ]
     },
     "execution_count": 37,
     "metadata": {},
     "output_type": "execute_result"
    }
   ],
   "source": [
    "# Subsetting filtered_subset_acs to include only rows where 'empstat' is \"employed\"\n",
    "employed_subset_acs = filtered_subset_acs[filtered_subset_acs[\"empstat\"] == \"employed\"]\n",
    "\n",
    "# Checking a sample of the subsetted DataFrame to verify the subsetting\n",
    "employed_subset_acs.sample(n=20, random_state=1)"
   ]
  },
  {
   "cell_type": "code",
   "execution_count": 38,
   "metadata": {},
   "outputs": [
    {
     "name": "stdout",
     "output_type": "stream",
     "text": [
      "The number of observations left after subsetting for employed individuals is 148758.\n",
      "{'ex2_num_obs': 319004, 'ex3_num_vars': 104, 'ex8_updated_num_obs': 265103, 'ex9_updated_num_obs': 148758}\n"
     ]
    }
   ],
   "source": [
    "# Counting the number of observations after subsetting\n",
    "ex9_updated_num_obs = len(employed_subset_acs)\n",
    "\n",
    "results[\"ex9_updated_num_obs\"] = ex9_updated_num_obs\n",
    "\n",
    "# Printing the number of observations left after subsetting for employed individuals\n",
    "print(\n",
    "    f\"The number of observations left after subsetting for employed individuals is {ex9_updated_num_obs}.\"\n",
    ")\n",
    "\n",
    "print(results)"
   ]
  },
  {
   "cell_type": "markdown",
   "metadata": {},
   "source": [
    "### Exercise 10\n",
    "\n",
    "Now let's turn to education. The `educ` variable seems to have a lot of discrete values. Let's see what values exist, and their distribution, using the `value_counts()` method. This is an *extremely* useful tool you'll use a lot! Try the following code (modified for the name of your dataset, of course):\n",
    "\n",
    "```python\n",
    "acs[\"educ\"].value_counts()\n",
    "```"
   ]
  },
  {
   "cell_type": "code",
   "execution_count": 39,
   "metadata": {},
   "outputs": [
    {
     "name": "stdout",
     "output_type": "stream",
     "text": [
      "educ\n",
      "grade 12                     47815\n",
      "4 years of college           33174\n",
      "1 year of college            22899\n",
      "5+ years of college          20995\n",
      "2 years of college           14077\n",
      "grade 11                      2747\n",
      "grade 5, 6, 7, or 8           2092\n",
      "grade 10                      1910\n",
      "n/a or no schooling           1291\n",
      "grade 9                       1290\n",
      "nursery school to grade 4      468\n",
      "Name: count, dtype: int64\n"
     ]
    }
   ],
   "source": [
    "# Checking the unique values and their counts in the 'educ' column of employed_subset_acs DataFrame\n",
    "educ_value_counts = employed_subset_acs[\"educ\"].value_counts()\n",
    "\n",
    "# Printing the value counts for 'educ' column\n",
    "print(educ_value_counts)"
   ]
  },
  {
   "cell_type": "markdown",
   "metadata": {},
   "source": [
    "### Exercise 11\n",
    "\n",
    "There are a lot of values in here, so let's just check a couple. What is the average value of `inctot` for people whose highest grade level is \"grade 12\" (in the US, that is someone who has graduated high school)?\n",
    "\n",
    "Save your answer in your `results` dictionary under the key `\"ex11_grade12_income\"`."
   ]
  },
  {
   "cell_type": "code",
   "execution_count": 40,
   "metadata": {},
   "outputs": [
    {
     "name": "stdout",
     "output_type": "stream",
     "text": [
      "The average income for employed high school gradautes is about $38957.76.\n",
      "{'ex2_num_obs': 319004, 'ex3_num_vars': 104, 'ex8_updated_num_obs': 265103, 'ex9_updated_num_obs': 148758, 'ex11_grade12_income': 38957.76068179442}\n"
     ]
    }
   ],
   "source": [
    "# Calculate the average income for people who has only graduated high school\n",
    "ex11_grade12_income = employed_subset_acs[employed_subset_acs[\"educ\"] == \"grade 12\"][\n",
    "    \"inctot\"\n",
    "].mean()\n",
    "\n",
    "results[\"ex11_grade12_income\"] = ex11_grade12_income\n",
    "\n",
    "print(\n",
    "    f\"The average income for employed high school gradautes is about ${round(ex11_grade12_income,2)}.\"\n",
    ")\n",
    "\n",
    "print(results)"
   ]
  },
  {
   "cell_type": "markdown",
   "metadata": {},
   "source": [
    "### Exercise 12\n",
    "\n",
    "What is the average income of someone who has completed an undergraduate degree but not done any postgraduate education (\"4 years of college\")? \n",
    "\n",
    "Save your answer in your `results` dictionary under the key `\"ex12_college_income\"`.\n",
    "\n",
    "In percentage terms, how much does an employed college graduate earn as compared to someone who is only a high school graduate? Use the reference category that gives an answer above 100.\n",
    "\n",
    "Store your answer in `\"ex12_college_income_pct\"`. Put your answer in percentage terms (so 100 implies they earn the same amount).\n",
    "\n",
    "*Make sure to interpret your result in words when you print it out!*"
   ]
  },
  {
   "cell_type": "code",
   "execution_count": 41,
   "metadata": {},
   "outputs": [
    {
     "name": "stdout",
     "output_type": "stream",
     "text": [
      "The average income for employed individuals who have completed an undergraduate degree is about $75485.05.\n",
      "The amount an employed college graduate earn as compared to someone who is only a high school graduate is about 193.76 % in percentage terms.\n",
      "This means that the employed college graduate earns about 93.76 % more compared to someone who is a employed high school graduate on average.\n",
      "This suggests that obtaining an undergraduate degree substantially increases one’s earning potential compared to holding only a high school diploma.\n",
      "{'ex2_num_obs': 319004, 'ex3_num_vars': 104, 'ex8_updated_num_obs': 265103, 'ex9_updated_num_obs': 148758, 'ex11_grade12_income': 38957.76068179442, 'ex12_college_income': 75485.05293301983, 'ex12_college_income_pct': 193.7612727527617}\n"
     ]
    }
   ],
   "source": [
    "# Calculate the average income for people who has only completed an undergraduate degree\n",
    "ex12_college_income = employed_subset_acs[\n",
    "    employed_subset_acs[\"educ\"] == \"4 years of college\"\n",
    "][\"inctot\"].mean()\n",
    "\n",
    "results[\"ex12_college_income\"] = ex12_college_income\n",
    "\n",
    "# the amount an employed college graduate earn as compared to someone who is only a high school graduate\n",
    "ex12_college_income_pct = (\n",
    "    (1 + (ex12_college_income - ex11_grade12_income) / ex11_grade12_income)\n",
    ") * 100\n",
    "\n",
    "results[\"ex12_college_income_pct\"] = ex12_college_income_pct\n",
    "\n",
    "# Printing the results\n",
    "print(\n",
    "    f\"The average income for employed individuals who have completed an undergraduate degree is about ${round(ex12_college_income, 2)}.\"\n",
    ")\n",
    "print(\n",
    "    f\"The amount an employed college graduate earn as compared to someone who is only a high school graduate is about {round(ex12_college_income_pct, 2)} % in percentage terms.\"\n",
    ")\n",
    "print(\n",
    "    f\"This means that the employed college graduate earns about {round(ex12_college_income_pct-100, 2)} % more compared to someone who is a employed high school graduate on average.\"\n",
    ")\n",
    "print(\n",
    "    \"This suggests that obtaining an undergraduate degree substantially increases one’s earning potential compared to holding only a high school diploma.\"\n",
    ")\n",
    "\n",
    "print(results)"
   ]
  },
  {
   "cell_type": "markdown",
   "metadata": {},
   "source": [
    "\n",
    "### Exercise 13\n",
    "What does that suggest is the value of getting a college degree after graduating high school?"
   ]
  },
  {
   "cell_type": "markdown",
   "metadata": {},
   "source": [
    "> + A 93.76% increase in income for employed college graduates, compared to employed high school graduates on average, suggests that obtaining an undergraduate degree substantially increases one’s earning potential compared to holding only a high school diploma.\n",
    "> + This 93.76% increase is significant, showing the substantial economic value and benefits of higher education. \n",
    "> + This data demonstrates a strong correlation between higher education and increased income."
   ]
  },
  {
   "cell_type": "markdown",
   "metadata": {},
   "source": [
    "### Exercise 14\n",
    "\n",
    "What is the average income for someone who has not finished high school? What does that suggest is the value of a high school diploma? (Treat `n/a or no schooling` as having no formal schooling, not as missing).\n",
    "\n",
    "**Hint:** You may find the [.isin()](https://pandas.pydata.org/pandas-docs/stable/reference/api/pandas.DataFrame.isin.html) method to be really helpful here.\n",
    "\n",
    "Save your answer in your `results` dictionary under the key `\"ex14_high_school_dropout\"`."
   ]
  },
  {
   "cell_type": "code",
   "execution_count": 42,
   "metadata": {},
   "outputs": [
    {
     "name": "stdout",
     "output_type": "stream",
     "text": [
      "The average income for someone who has not finished high school is about $26226.46\n",
      "{'ex2_num_obs': 319004, 'ex3_num_vars': 104, 'ex8_updated_num_obs': 265103, 'ex9_updated_num_obs': 148758, 'ex11_grade12_income': 38957.76068179442, 'ex12_college_income': 75485.05293301983, 'ex12_college_income_pct': 193.7612727527617, 'ex14_high_school_dropout': 26226.45692998571}\n"
     ]
    }
   ],
   "source": [
    "# Selecting rows where educ indicates not having finished high school\n",
    "high_school_not_finished = [\n",
    "    \"n/a or no schooling\",\n",
    "    \"nursery school to grade 4\",\n",
    "    \"grade 5, 6, 7, or 8\",\n",
    "    \"grade 9\",\n",
    "    \"grade 10\",\n",
    "    \"grade 11\",\n",
    "]\n",
    "\n",
    "# Filter the employed_subset_acs for high school drop out\n",
    "dropout_subset = employed_subset_acs[\n",
    "    employed_subset_acs[\"educ\"].isin(high_school_not_finished)\n",
    "]\n",
    "\n",
    "# Calculate the average income for high school drop out\n",
    "ex14_high_school_dropout = dropout_subset[\"inctot\"].mean()\n",
    "\n",
    "results[\"ex14_high_school_dropout\"] = ex14_high_school_dropout\n",
    "\n",
    "print(\n",
    "    f\"The average income for someone who has not finished high school is about ${round(ex14_high_school_dropout, 2)}\"\n",
    ")\n",
    "\n",
    "print(results)"
   ]
  },
  {
   "cell_type": "markdown",
   "metadata": {},
   "source": [
    "### Exercise 15 \n",
    "\n",
    "Complete the following table (storing values under the provided keys where listed):\n",
    "\n",
    "- Average income for someone who only completed 9th grade (`ex15_grade_9`): _________\n",
    "- Average income for someone who only completed 10th grade (`ex15_grade_10`): _________\n",
    "- Average income for someone who only completed 11th grade (`ex15_grade_11`): _________\n",
    "- Average income for someone who finished high school (12th grade) but never started college (`ex15_grade_12`): _________\n",
    "- Average income for someone who completed 4 year of college (in the US, this corresponds to getting an undergraduate degree), but has no post-graduate education (no more than 4 years, `ex15_4_years_of_college`): _________\n",
    "- Average income for someone who has some graduate education (more than 4 years, `ex15_graduate`): _________"
   ]
  },
  {
   "cell_type": "code",
   "execution_count": 43,
   "metadata": {},
   "outputs": [
    {
     "name": "stdout",
     "output_type": "stream",
     "text": [
      "Average income for someone who has an education level of grade 9 is about $27171.91\n",
      "Average income for someone who has an education level of grade 10 is about $23018.8\n",
      "Average income for someone who has an education level of grade 11 is about $21541.69\n",
      "Average income for someone who has an education level of grade 12 is about $38957.76\n",
      "Average income for someone who has an education level of 4 years of college is about $75485.05\n",
      "Average income for someone who has an education level of 5+ years of college is about $110013.22\n",
      "{'ex2_num_obs': 319004, 'ex3_num_vars': 104, 'ex8_updated_num_obs': 265103, 'ex9_updated_num_obs': 148758, 'ex11_grade12_income': 38957.76068179442, 'ex12_college_income': 75485.05293301983, 'ex12_college_income_pct': 193.7612727527617, 'ex14_high_school_dropout': 26226.45692998571, 'ex15_grade_9': 27171.907751937986, 'ex15_grade_10': 23018.795811518325, 'ex15_grade_11': 21541.68693119767, 'ex15_grade_12': 38957.76068179442, 'ex15_4_years_of_college': 75485.05293301983, 'ex15_graduate': 110013.2213384139}\n"
     ]
    }
   ],
   "source": [
    "# Define a calculate_average_income function to calculate and store average income for a given education level\n",
    "def calculate_average_income(educ_level, key):\n",
    "    avg_income = employed_subset_acs[employed_subset_acs[\"educ\"] == educ_level][\n",
    "        \"inctot\"\n",
    "    ].mean()\n",
    "    results[key] = avg_income\n",
    "    print(\n",
    "        f\"Average income for someone who has an education level of {educ_level} is about ${round(avg_income, 2)}\"\n",
    "    )\n",
    "\n",
    "\n",
    "# Average income for someone who only completed 9th grade\n",
    "calculate_average_income(\"grade 9\", \"ex15_grade_9\")\n",
    "\n",
    "# Average income for someone who only completed 10th grade\n",
    "calculate_average_income(\"grade 10\", \"ex15_grade_10\")\n",
    "\n",
    "# Average income for someone who only completed 11th grade\n",
    "calculate_average_income(\"grade 11\", \"ex15_grade_11\")\n",
    "\n",
    "# Average income for someone who finished high school but never started college\n",
    "calculate_average_income(\"grade 12\", \"ex15_grade_12\")\n",
    "\n",
    "# Average income for someone who completed 4 years of college but has no postgraduate education\n",
    "calculate_average_income(\"4 years of college\", \"ex15_4_years_of_college\")\n",
    "\n",
    "# Average income for someone who has some graduate education\n",
    "calculate_average_income(\"5+ years of college\", \"ex15_graduate\")\n",
    "\n",
    "print(results)"
   ]
  },
  {
   "cell_type": "markdown",
   "metadata": {},
   "source": [
    "### Exercise 16 \n",
    "\n",
    "Why do you think there is no benefit from moving from grade 9 to grade 10, or grade 10 to grade 11, but there is a huge benefit to moving from grade 11 to graduating high school (grade 12)?\n",
    "\n",
    "(Think carefully before reading ahead!)"
   ]
  },
  {
   "cell_type": "markdown",
   "metadata": {},
   "source": [
    "> + I believe this is because many positions list a high school diploma as a baseline qualification requirement. It is often considered the minimum requirement for numerous jobs. \n",
    "> + Those positions without high school diploma as a minimum requirement are less paid. \n",
    "> + A high school diploma is an excellent demonstration of a candidate's learning ability and the necessary skills to succeed in a position.\n",
    "> + Thus, there might not be substantial income differences between those who completed up to grade 9, 10, or 11, but a significant difference does exist between individuals who have obtained a high school degree and those who have not."
   ]
  },
  {
   "cell_type": "code",
   "execution_count": 44,
   "metadata": {},
   "outputs": [],
   "source": [
    "assert set(results.keys()) == {\n",
    "    \"ex2_num_obs\",\n",
    "    \"ex3_num_vars\",\n",
    "    \"ex8_updated_num_obs\",\n",
    "    \"ex9_updated_num_obs\",\n",
    "    \"ex11_grade12_income\",\n",
    "    \"ex12_college_income\",\n",
    "    \"ex12_college_income_pct\",\n",
    "    \"ex14_high_school_dropout\",\n",
    "    \"ex15_grade_9\",\n",
    "    \"ex15_grade_10\",\n",
    "    \"ex15_grade_11\",\n",
    "    \"ex15_grade_12\",\n",
    "    \"ex15_4_years_of_college\",\n",
    "    \"ex15_graduate\",\n",
    "}"
   ]
  },
  {
   "cell_type": "markdown",
   "metadata": {},
   "source": [
    "## Take-aways\n",
    "\n",
    "Congratulations! You just discovered \"the sheepskin effect!\": people with degrees tend to earn substantially more than people who have *almost* as much education, but don't have an actual degree. \n",
    "\n",
    "In economics, this is viewed as evidence that the reason employers pay people with high school degrees more than those without degree is *not* that they think those who graduated high school have learned specific, useful skills. If that were the case, we would expect employee earnings to rise with every year of high school, since in each year of high school we learn more. \n",
    "\n",
    "Instead, this suggests employees pay high school graduates more because they think *the kind of people* who can finish high school are the *kind of people* who are likely to succeed at their jobs. Finishing high school, in other words, isn't about accumulating specific knowledge; it's about showing that you *are the kind of person* who can rise to the challenge of finishing high school, also suggesting you are also the kind of person who can succeed as an employee. \n",
    "\n",
    "(Obviously, this does not tell us whether that is an *accurate* inference, just that that seems to be how employeers think.) \n",
    "\n",
    "In other words, in the eyes of employers, a high school degree is a *signal* about the kind of person you are, not certification that you've learned a specific set of skills (an idea that earned [Michael Spence](https://en.wikipedia.org/wiki/Michael_Spence) a Nobel Prize in Economics). "
   ]
  }
 ],
 "metadata": {
  "kernelspec": {
   "display_name": "Python 3.10.2 ('ds')",
   "language": "python",
   "name": "python3"
  },
  "language_info": {
   "codemirror_mode": {
    "name": "ipython",
    "version": 3
   },
   "file_extension": ".py",
   "mimetype": "text/x-python",
   "name": "python",
   "nbconvert_exporter": "python",
   "pygments_lexer": "ipython3",
   "version": "3.11.5"
  },
  "vscode": {
   "interpreter": {
    "hash": "b9e56a7b23b1fac2eea1a993b805ed5c611aea1439c1f46315b23590ab6d3ba0"
   }
  }
 },
 "nbformat": 4,
 "nbformat_minor": 4
}
