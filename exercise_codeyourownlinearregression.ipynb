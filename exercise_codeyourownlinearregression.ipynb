{
 "cells": [
  {
   "cell_type": "markdown",
   "metadata": {},
   "source": [
    "# Coding Your Own Linear Regression Model\n",
    "\n",
    "One task that you will almost certainly be required to do other data science courses (especially if you are a MIDS student) is to write up some of your statistical / machine learning models from scratch. This can be a very valuable exercise, as it ensures that you understand what is actually going on behind the scenes of the models you use ever day, and that you don't just think of them as \"black boxes\". \n",
    "\n",
    "To get a little practice doing this, today you will be coding up your own linear regression model! \n",
    "\n",
    "(If you are using this site but aren't actually in this class, you are welcome to skip this exercise if you'd like -- this is more about practicing Python in anticipation of the requirements of other courses than developing your applied data science skills.) \n",
    "\n",
    "There are, broadly speaking, two approaches you can take to coding up your own model: \n",
    "\n",
    "1. you can write the model by defining a new function, or \n",
    "2. you can write the model by defining a new class with associated methods (making a model that works the way a model works in `scikit-learn`). \n",
    "\n",
    "Whether you do 1 or 2 is very much a matter of choice and style. Approach one, for example, is more consistent with what is called a *functional* style of programming, while approach two is more consistent with an *object-oriented* style of programming. Python can readily support both approaches, so either would work fine. \n",
    "\n",
    "In these exercises, however, I will ask you to use approach number 2 as this *tends* to be the more difficult approach, and so practicing approach 2 will be extra useful in preparing you for other classes (HA! Pun...). In particular, our goal is to implement a linear regression model that has the same \"initialize-fit-predict-score\" API (application programming interface -- a fancy name for the methods a class supports) as `scikit-learn` models. That means your model should be able to do all of the following:\n",
    "\n",
    "1. **Initialize** a new model. \n",
    "2. **Fit** a linear model when given a numpy vector (`y`) and a numpy matrix (`X`) with the syntax `my_model.fit(X, y)`. \n",
    "3. **Predict** values when given a new `numpy` matrix (`X_test`) with the syntax `my_model.predict(X_test)`. \n",
    "4. Return the **model coefficients** through the property `my_model.coefficients` (not quite what is used in `sklearn`, but let's use that interface). \n",
    "\n",
    "Also, bear in mind that throughout these exercises, we'll be working in `numpy` instead of `pandas`, just as we do in `scikit-learn`. So assume that before using your model, your user has already converted their data from `pandas` into `numpy` arrays. "
   ]
  },
  {
   "cell_type": "code",
   "execution_count": 216,
   "metadata": {},
   "outputs": [],
   "source": [
    "import pandas as pd\n",
    "import numpy as np\n",
    "\n",
    "pd.set_option(\"mode.copy_on_write\", True)"
   ]
  },
  {
   "cell_type": "markdown",
   "metadata": {},
   "source": [
    "**(1)** Define a new Class called `MyLinearModel` with methods for `__init__`, `fit`, `predict`, and an attribute for `coefficients`. For now, we don't need any initialization *arguments*, just an `__init__` function. \n",
    "\n",
    "As you get your code outline going, start by just having each method `pass`:\n",
    "\n",
    "```python\n",
    "def my_method(self):\n",
    "    pass\n",
    "```\n",
    "\n",
    "This will allow your methods to run without errors (they just don't do anything). Then we can double back to each method to get them working one by one."
   ]
  },
  {
   "cell_type": "code",
   "execution_count": 217,
   "metadata": {},
   "outputs": [],
   "source": [
    "class MyLinearModel:\n",
    "    def __init__(self, X, y, const=False):\n",
    "        # coefficient\n",
    "        self.beta = None\n",
    "\n",
    "    def fit(self):\n",
    "        pass\n",
    "\n",
    "    def predict(self, X_test):\n",
    "        pass"
   ]
  },
  {
   "cell_type": "markdown",
   "metadata": {},
   "source": [
    "**(2)** Now define your `fit` method. This is the method that should actually run your linear regression. In case you've forgotten your linear algebra, remember that for linear regressions, $\\beta = (X'X)^{-1}X'Y$, a fact you can see explained in detail on page four [here](https://www.stat.purdue.edu/~boli/stat512/lectures/topic3.pdf).\n",
    "\n",
    "Note that once you have written the code to do a linear regression, you'll need to put your outputs (your coefficents) somewhere. I recommend making an attribute for your class where you can store your coefficients. \n",
    "\n",
    "(As a reminder: the normal multiply operator (`*`) in `numpy` implies scalar multiplication. Use `@` for matrix multiplication). \n",
    "\n",
    "**HINT:** Remember that linear regressions require a vector of 1s in the `X` matrix. As the package writer, you get to decide whether users are expected to provide a matrix `X` that already has a vector of 1s, or whether you expect the user to provide a matrix `X` that doesn't have a vector of 1s (in which case you will need to add a vector of 1s before you fit the model)."
   ]
  },
  {
   "cell_type": "code",
   "execution_count": 218,
   "metadata": {},
   "outputs": [],
   "source": [
    "class MyLinearModel:\n",
    "    def __init__(self, X, y, const=False):\n",
    "        # Add constant if const=False\n",
    "        if const == True:\n",
    "            self.X = X\n",
    "        else:\n",
    "            self.X = np.insert(X, 0, 1, axis=1)\n",
    "        self.y = y\n",
    "        # Initialize coefficients\n",
    "        self.beta = np.zeros((3, 1))\n",
    "\n",
    "    def fit(self):\n",
    "        # Coefficients computation\n",
    "        XtX_inv = np.linalg.inv(self.X.T @ self.X)\n",
    "        self.beta = XtX_inv @ self.X.T @ self.y\n",
    "\n",
    "    def predict(self, X_test):\n",
    "        # prediction\n",
    "        y_pred = np.insert(X_test, 0, 1, axis=1) @ self.beta\n",
    "        return y_pred"
   ]
  },
  {
   "cell_type": "markdown",
   "metadata": {},
   "source": [
    "**(3)** As you write code, it is good to test your code as you work. With that in mind, let's create some toy data. First, create a 100 x 2 matrix where each column is normally distributed. Then create a vector `y` that is a linear combination of those two columns **plus** a vector of normally distributed noise **and** a constant term. \n",
    "\n",
    "In other words, we want to create data where we *know* exactly what coefficients we should see so when we test our regression, we know if the results are accurate!"
   ]
  },
  {
   "cell_type": "code",
   "execution_count": 219,
   "metadata": {},
   "outputs": [
    {
     "data": {
      "text/plain": [
       "(array([[-0.6075477 , -0.12613641],\n",
       "        [-0.68460636,  0.92871475],\n",
       "        [-1.84440103, -0.46700242],\n",
       "        [ 2.29249034,  0.48881005],\n",
       "        [ 0.71026699,  1.05553444],\n",
       "        [ 0.0540731 ,  0.25795342],\n",
       "        [ 0.58828165,  0.88524424],\n",
       "        [-1.01700702, -0.13369303],\n",
       "        [-0.4381855 ,  0.49344349],\n",
       "        [-0.19900912, -1.27498361],\n",
       "        [ 0.29349415,  0.10895031],\n",
       "        [ 0.03172679,  1.27263986],\n",
       "        [ 1.0714479 ,  0.41581801],\n",
       "        [ 1.55067923, -0.31137892],\n",
       "        [-1.37923991,  1.37140879],\n",
       "        [ 0.02771165, -0.32039958],\n",
       "        [-0.84617041, -0.43342892],\n",
       "        [-1.3370345 ,  0.20917217],\n",
       "        [-1.4243213 , -0.55347685],\n",
       "        [ 0.07479864, -0.50561983],\n",
       "        [ 1.05240778,  0.97140041],\n",
       "        [ 0.07683154, -0.43500078],\n",
       "        [ 0.5529944 ,  0.26671631],\n",
       "        [ 0.00898941,  0.64110275],\n",
       "        [-0.17770716,  0.69627761],\n",
       "        [-1.1887251 , -0.33169686],\n",
       "        [ 0.03007614, -1.10791517],\n",
       "        [-0.5499249 , -2.03290956],\n",
       "        [ 1.4079178 ,  0.63310826],\n",
       "        [ 2.21274689, -0.52660228],\n",
       "        [ 0.54288168, -0.0844797 ],\n",
       "        [ 1.29201502, -0.17671057],\n",
       "        [ 1.68778715, -1.04661354],\n",
       "        [ 0.64212021, -0.17296174],\n",
       "        [-1.11206497, -0.02070278],\n",
       "        [-1.81352177,  0.20352189],\n",
       "        [ 0.53187404, -1.01702346],\n",
       "        [-1.84805054,  0.17254907],\n",
       "        [ 0.78620153, -0.07147003],\n",
       "        [ 0.83634877, -0.19822889],\n",
       "        [-0.09227256,  0.87072588],\n",
       "        [-0.83919248,  0.82325537],\n",
       "        [ 0.70175236,  0.59836051],\n",
       "        [-0.50799497,  0.13613812],\n",
       "        [-1.49211459,  0.61166554],\n",
       "        [ 1.36952759, -1.70273142],\n",
       "        [-0.51878098, -1.23470323],\n",
       "        [-2.88099459, -0.01572328],\n",
       "        [-1.69268465, -0.61963465],\n",
       "        [ 0.87432517,  1.71951901],\n",
       "        [ 0.03429009, -0.84843431],\n",
       "        [ 0.26883136, -1.7413772 ],\n",
       "        [ 0.12649299, -0.1547941 ],\n",
       "        [ 0.80694089, -0.89131063],\n",
       "        [-0.06455678, -0.13626329],\n",
       "        [-0.17389384,  1.32163306],\n",
       "        [-1.56856241, -0.57863911],\n",
       "        [ 0.43600611, -0.7529088 ],\n",
       "        [-0.92410221, -2.43705313],\n",
       "        [-1.58809051, -0.9280105 ],\n",
       "        [-0.55316652, -0.21255079],\n",
       "        [-0.73348983,  0.37072893],\n",
       "        [ 1.0309026 ,  0.30399334],\n",
       "        [ 0.57309681, -1.21858776],\n",
       "        [-0.7714709 , -0.3525092 ],\n",
       "        [ 3.43744895,  0.35770054],\n",
       "        [ 0.22463386,  0.31731955],\n",
       "        [-0.21225177, -0.3135742 ],\n",
       "        [ 1.62973574,  0.17342489],\n",
       "        [ 0.11448989,  0.08806336],\n",
       "        [ 0.30395354, -0.37949762],\n",
       "        [-0.8903746 ,  0.88851929],\n",
       "        [ 0.85787022,  0.76840873],\n",
       "        [ 0.60359628,  0.25866473],\n",
       "        [-1.95006898, -0.63984546],\n",
       "        [-0.41330274,  0.23156046],\n",
       "        [-0.72999801,  1.61796415],\n",
       "        [-1.51702699,  0.45600276],\n",
       "        [-0.86025976, -1.05905649],\n",
       "        [-0.74237576, -0.1863936 ],\n",
       "        [-0.32671717,  0.80432571],\n",
       "        [ 0.2079763 , -0.03813704],\n",
       "        [ 0.92027615, -0.54387028],\n",
       "        [ 1.86825697,  1.76934996],\n",
       "        [-0.44994016, -1.33974061],\n",
       "        [ 0.94844044,  1.5278355 ],\n",
       "        [-0.25693526, -1.39488544],\n",
       "        [ 0.08272428, -0.26019278],\n",
       "        [ 0.44480736,  0.8872979 ],\n",
       "        [-1.3026177 , -0.16682567],\n",
       "        [-1.70582163, -0.22036875],\n",
       "        [ 0.54627626,  0.82000871],\n",
       "        [-0.30362954,  1.7417511 ],\n",
       "        [ 0.87603633,  0.79511739],\n",
       "        [-0.39155736, -1.12614983],\n",
       "        [ 1.76101748,  1.00055791],\n",
       "        [-2.1199455 ,  1.9081589 ],\n",
       "        [-1.05247805,  0.0813231 ],\n",
       "        [ 0.94708268, -0.53371674],\n",
       "        [ 0.01359646, -1.43838044]]),\n",
       " array([[ 6.72037968e-01],\n",
       "        [ 1.78877209e-01],\n",
       "        [-2.85016805e+00],\n",
       "        [ 7.26376896e+00],\n",
       "        [ 3.95756318e+00],\n",
       "        [ 2.20134270e+00],\n",
       "        [ 4.28790458e+00],\n",
       "        [ 5.53985750e-01],\n",
       "        [ 4.05694882e-01],\n",
       "        [-1.88898480e+00],\n",
       "        [ 2.33566502e+00],\n",
       "        [ 1.08858334e+00],\n",
       "        [ 3.59009077e+00],\n",
       "        [ 4.34574854e+00],\n",
       "        [ 1.16922982e+00],\n",
       "        [ 2.01910642e+00],\n",
       "        [-1.65102738e+00],\n",
       "        [ 9.87456962e-01],\n",
       "        [-4.10844653e+00],\n",
       "        [ 1.09403763e+00],\n",
       "        [ 3.03407567e+00],\n",
       "        [-7.58082132e-01],\n",
       "        [ 1.85400369e+00],\n",
       "        [ 1.64152914e+00],\n",
       "        [ 3.29188452e+00],\n",
       "        [-1.34104933e+00],\n",
       "        [-1.02406217e+00],\n",
       "        [-1.77845082e+00],\n",
       "        [ 3.80999301e+00],\n",
       "        [ 4.65217309e+00],\n",
       "        [ 1.49007852e+00],\n",
       "        [ 3.07717157e+00],\n",
       "        [ 1.87878352e+00],\n",
       "        [ 2.08729583e+00],\n",
       "        [-4.15706961e+00],\n",
       "        [-2.81870827e+00],\n",
       "        [ 1.64347419e+00],\n",
       "        [-4.35190457e+00],\n",
       "        [-3.63011444e-01],\n",
       "        [ 3.16693990e+00],\n",
       "        [ 2.89548377e+00],\n",
       "        [ 8.10266297e-01],\n",
       "        [ 2.38679795e+00],\n",
       "        [-1.74447818e-03],\n",
       "        [-9.58622471e-01],\n",
       "        [ 8.91061297e-01],\n",
       "        [-1.31414330e+00],\n",
       "        [-4.42575393e+00],\n",
       "        [-5.51501439e+00],\n",
       "        [ 4.34856648e+00],\n",
       "        [ 6.53595095e-01],\n",
       "        [-6.33362750e-01],\n",
       "        [ 8.44133792e-01],\n",
       "        [ 9.11497734e-01],\n",
       "        [-8.97429846e-01],\n",
       "        [ 1.09831102e+00],\n",
       "        [-2.36385420e+00],\n",
       "        [ 2.19479437e+00],\n",
       "        [-2.82799812e+00],\n",
       "        [-2.28136665e+00],\n",
       "        [-8.04481462e-01],\n",
       "        [-1.07596836e+00],\n",
       "        [ 3.21551340e+00],\n",
       "        [ 2.88315981e+00],\n",
       "        [-1.47654861e+00],\n",
       "        [ 8.67425725e+00],\n",
       "        [ 2.64188711e-01],\n",
       "        [-1.41101907e+00],\n",
       "        [ 5.32892339e+00],\n",
       "        [ 8.50598849e-01],\n",
       "        [ 2.06505869e+00],\n",
       "        [-6.53326167e-01],\n",
       "        [ 3.83103376e+00],\n",
       "        [ 2.00839378e+00],\n",
       "        [-2.53221117e+00],\n",
       "        [-1.04883226e+00],\n",
       "        [-5.67513509e-01],\n",
       "        [-1.88157533e+00],\n",
       "        [-3.31082561e+00],\n",
       "        [ 2.15021413e-01],\n",
       "        [ 1.14930733e+00],\n",
       "        [ 3.58928447e-01],\n",
       "        [ 2.94094199e+00],\n",
       "        [ 6.21158255e+00],\n",
       "        [ 2.08490566e-01],\n",
       "        [ 4.57827808e+00],\n",
       "        [-9.23588321e-01],\n",
       "        [ 2.39623303e+00],\n",
       "        [ 3.18833523e+00],\n",
       "        [-2.59390087e+00],\n",
       "        [-2.50826454e+00],\n",
       "        [ 1.24843053e+00],\n",
       "        [ 3.72644806e+00],\n",
       "        [ 5.81740911e+00],\n",
       "        [-1.14284906e+00],\n",
       "        [ 5.39572452e+00],\n",
       "        [-4.57083901e-01],\n",
       "        [-9.20133038e-01],\n",
       "        [ 3.30363574e+00],\n",
       "        [-2.16050133e-01]]))"
      ]
     },
     "execution_count": 219,
     "metadata": {},
     "output_type": "execute_result"
    }
   ],
   "source": [
    "np.random.seed(40)\n",
    "X = np.random.normal(size=(100, 2))\n",
    "X_test = X\n",
    "noise = np.random.normal(size=(100, 1))\n",
    "beta = np.array([[2], [1]])\n",
    "b = 1\n",
    "y = X @ beta + noise + b\n",
    "X, y"
   ]
  },
  {
   "cell_type": "markdown",
   "metadata": {},
   "source": [
    "**(4)** Now test whether you `fit` method generates the correct coefficients. Remember the choice you made in Question 2 about whether your package expects the users' `X` matrix to include a vector of 1s when you test!"
   ]
  },
  {
   "cell_type": "markdown",
   "metadata": {},
   "source": [
    "> Our class adds the ones for the user"
   ]
  },
  {
   "cell_type": "code",
   "execution_count": 220,
   "metadata": {},
   "outputs": [],
   "source": [
    "test_model = MyLinearModel(X, y)"
   ]
  },
  {
   "cell_type": "code",
   "execution_count": 221,
   "metadata": {},
   "outputs": [
    {
     "data": {
      "text/plain": [
       "array([[0.],\n",
       "       [0.],\n",
       "       [0.]])"
      ]
     },
     "execution_count": 221,
     "metadata": {},
     "output_type": "execute_result"
    }
   ],
   "source": [
    "test_model.beta"
   ]
  },
  {
   "cell_type": "markdown",
   "metadata": {},
   "source": [
    "> Good model initialization with beta initialized at zero"
   ]
  },
  {
   "cell_type": "code",
   "execution_count": 222,
   "metadata": {},
   "outputs": [],
   "source": [
    "test_model.fit()"
   ]
  },
  {
   "cell_type": "code",
   "execution_count": 223,
   "metadata": {},
   "outputs": [
    {
     "data": {
      "text/plain": [
       "array([[0.94954368],\n",
       "       [2.02452443],\n",
       "       [1.05601786]])"
      ]
     },
     "execution_count": 223,
     "metadata": {},
     "output_type": "execute_result"
    }
   ],
   "source": [
    "test_model.beta"
   ]
  },
  {
   "cell_type": "markdown",
   "metadata": {},
   "source": [
    "> $\\beta = (X'X)^{-1}X'Y$ where X is 100x3 (since we added a column of ones) should be [3x100]*[100x3] * [3x100]*[100x1] = [3x1] which is what we have. This is the beta coefficients and the intercept. We also set the coefficients in our y (apart from the noise) to be 2 and 1 so our fit is close to correct."
   ]
  },
  {
   "cell_type": "markdown",
   "metadata": {},
   "source": [
    "**(5)** Now let's make the statisticians proud, and in addition to storing the coefficients, let's store the standard errors for our estimated coefficients as another attribute. Recall that the simplest method of calculating the variance covariance matrix for $\\beta$ is using the formula $\\sigma^2 (X'X)^{-1}$, where $\\sigma^2$ is the variance of the error terms of your regression. The standard errors for your coefficient estimates will be the diagonal values of that matrix. See page six [here](https://www.stat.purdue.edu/~boli/stat512/lectures/topic3.pdf) for a full derivation. "
   ]
  },
  {
   "cell_type": "code",
   "execution_count": 224,
   "metadata": {},
   "outputs": [],
   "source": [
    "class MyLinearModel:\n",
    "    def __init__(self, X, y, const=False):\n",
    "        if const == True:\n",
    "            self.X = X\n",
    "        else:\n",
    "            self.X = np.insert(X, 0, 1, axis=1)\n",
    "        self.y = y\n",
    "        self.beta = np.zeros((3, 1))\n",
    "        self.std_error = np.zeros((3, 1))\n",
    "\n",
    "    def fit(self):\n",
    "        # Coefficients computation\n",
    "        XtX_inv = np.linalg.inv(self.X.T @ self.X)\n",
    "        self.beta = XtX_inv @ self.X.T @ self.y\n",
    "\n",
    "        # Standard error computation\n",
    "        residuals = self.y - (self.X @ self.beta)\n",
    "        sigma_squared = np.mean(residuals**2)\n",
    "        self.std_error = np.sqrt(np.diag(sigma_squared * XtX_inv))\n",
    "\n",
    "    def predict(self, X_test):\n",
    "        y_pred = np.insert(X_test, 0, 1, axis=1) @ self.beta\n",
    "        return y_pred"
   ]
  },
  {
   "cell_type": "code",
   "execution_count": 225,
   "metadata": {},
   "outputs": [],
   "source": [
    "test_model = MyLinearModel(X, y)"
   ]
  },
  {
   "cell_type": "code",
   "execution_count": 226,
   "metadata": {},
   "outputs": [],
   "source": [
    "test_model.fit()"
   ]
  },
  {
   "cell_type": "code",
   "execution_count": 227,
   "metadata": {},
   "outputs": [
    {
     "data": {
      "text/plain": [
       "array([0.10773008, 0.09876537, 0.1235912 ])"
      ]
     },
     "execution_count": 227,
     "metadata": {},
     "output_type": "execute_result"
    }
   ],
   "source": [
    "test_model.std_error"
   ]
  },
  {
   "cell_type": "markdown",
   "metadata": {},
   "source": [
    "**(6)** Now let's also add an R-squared attribute to the model."
   ]
  },
  {
   "cell_type": "code",
   "execution_count": 228,
   "metadata": {},
   "outputs": [],
   "source": [
    "class MyLinearModel:\n",
    "    def __init__(self, X, y, const=False):\n",
    "        if const == True:\n",
    "            self.X = X\n",
    "        else:\n",
    "            self.X = np.insert(X, 0, 1, axis=1)\n",
    "        self.y = y\n",
    "        self.beta = np.zeros((3, 1))\n",
    "        self.std_error = np.zeros((3, 1))\n",
    "        self.rsquared = 0\n",
    "\n",
    "    def fit(self):\n",
    "        # Coefficients computation\n",
    "        XtX_inv = np.linalg.inv(self.X.T @ self.X)\n",
    "        self.beta = XtX_inv @ self.X.T @ self.y\n",
    "\n",
    "        # Standard error computation\n",
    "        residuals = self.y - (self.X @ self.beta)\n",
    "        sigma_squared = np.mean(residuals**2)\n",
    "        self.std_error = np.sqrt(np.diag(sigma_squared * XtX_inv))\n",
    "\n",
    "        # R-squared computation\n",
    "        sum_squared_residuals = np.sum(residuals**2)\n",
    "        tot_sum_squares = np.sum((self.y - np.mean(self.y)) ** 2)\n",
    "        self.rsquared = 1 - (sum_squared_residuals / tot_sum_squares)\n",
    "\n",
    "    def predict(self, X_test):\n",
    "        y_pred = np.insert(X_test, 0, 1, axis=1) @ self.beta\n",
    "        return y_pred"
   ]
  },
  {
   "cell_type": "code",
   "execution_count": 229,
   "metadata": {},
   "outputs": [],
   "source": [
    "test_model = MyLinearModel(X, y)"
   ]
  },
  {
   "cell_type": "code",
   "execution_count": 230,
   "metadata": {},
   "outputs": [],
   "source": [
    "test_model.fit()"
   ]
  },
  {
   "cell_type": "code",
   "execution_count": 231,
   "metadata": {},
   "outputs": [
    {
     "data": {
      "text/plain": [
       "array([[0.94954368],\n",
       "       [2.02452443],\n",
       "       [1.05601786]])"
      ]
     },
     "execution_count": 231,
     "metadata": {},
     "output_type": "execute_result"
    }
   ],
   "source": [
    "test_model.beta"
   ]
  },
  {
   "cell_type": "code",
   "execution_count": 232,
   "metadata": {},
   "outputs": [
    {
     "data": {
      "text/plain": [
       "array([0.10773008, 0.09876537, 0.1235912 ])"
      ]
     },
     "execution_count": 232,
     "metadata": {},
     "output_type": "execute_result"
    }
   ],
   "source": [
    "test_model.std_error"
   ]
  },
  {
   "cell_type": "code",
   "execution_count": 233,
   "metadata": {},
   "outputs": [
    {
     "data": {
      "text/plain": [
       "0.8410063423657346"
      ]
     },
     "execution_count": 233,
     "metadata": {},
     "output_type": "execute_result"
    }
   ],
   "source": [
    "test_model.rsquared"
   ]
  },
  {
   "cell_type": "markdown",
   "metadata": {},
   "source": [
    "**(7)** Now we'll go ahead and cheat a little. Use `statsmodels` to fit your model with your toy data to ensure your standard errors and r-squared are correct!"
   ]
  },
  {
   "cell_type": "code",
   "execution_count": 234,
   "metadata": {},
   "outputs": [
    {
     "data": {
      "text/html": [
       "<table class=\"simpletable\">\n",
       "<caption>OLS Regression Results</caption>\n",
       "<tr>\n",
       "  <th>Dep. Variable:</th>            <td>y</td>        <th>  R-squared:         </th> <td>   0.841</td>\n",
       "</tr>\n",
       "<tr>\n",
       "  <th>Model:</th>                   <td>OLS</td>       <th>  Adj. R-squared:    </th> <td>   0.838</td>\n",
       "</tr>\n",
       "<tr>\n",
       "  <th>Method:</th>             <td>Least Squares</td>  <th>  F-statistic:       </th> <td>   256.5</td>\n",
       "</tr>\n",
       "<tr>\n",
       "  <th>Date:</th>             <td>Thu, 30 Nov 2023</td> <th>  Prob (F-statistic):</th> <td>1.85e-39</td>\n",
       "</tr>\n",
       "<tr>\n",
       "  <th>Time:</th>                 <td>00:50:19</td>     <th>  Log-Likelihood:    </th> <td> -149.20</td>\n",
       "</tr>\n",
       "<tr>\n",
       "  <th>No. Observations:</th>      <td>   100</td>      <th>  AIC:               </th> <td>   304.4</td>\n",
       "</tr>\n",
       "<tr>\n",
       "  <th>Df Residuals:</th>          <td>    97</td>      <th>  BIC:               </th> <td>   312.2</td>\n",
       "</tr>\n",
       "<tr>\n",
       "  <th>Df Model:</th>              <td>     2</td>      <th>                     </th>     <td> </td>   \n",
       "</tr>\n",
       "<tr>\n",
       "  <th>Covariance Type:</th>      <td>nonrobust</td>    <th>                     </th>     <td> </td>   \n",
       "</tr>\n",
       "</table>\n",
       "<table class=\"simpletable\">\n",
       "<tr>\n",
       "    <td></td>       <th>coef</th>     <th>std err</th>      <th>t</th>      <th>P>|t|</th>  <th>[0.025</th>    <th>0.975]</th>  \n",
       "</tr>\n",
       "<tr>\n",
       "  <th>const</th> <td>    0.9495</td> <td>    0.109</td> <td>    8.681</td> <td> 0.000</td> <td>    0.732</td> <td>    1.167</td>\n",
       "</tr>\n",
       "<tr>\n",
       "  <th>x1</th>    <td>    2.0245</td> <td>    0.100</td> <td>   20.189</td> <td> 0.000</td> <td>    1.825</td> <td>    2.224</td>\n",
       "</tr>\n",
       "<tr>\n",
       "  <th>x2</th>    <td>    1.0560</td> <td>    0.125</td> <td>    8.415</td> <td> 0.000</td> <td>    0.807</td> <td>    1.305</td>\n",
       "</tr>\n",
       "</table>\n",
       "<table class=\"simpletable\">\n",
       "<tr>\n",
       "  <th>Omnibus:</th>       <td> 0.820</td> <th>  Durbin-Watson:     </th> <td>   1.919</td>\n",
       "</tr>\n",
       "<tr>\n",
       "  <th>Prob(Omnibus):</th> <td> 0.664</td> <th>  Jarque-Bera (JB):  </th> <td>   0.732</td>\n",
       "</tr>\n",
       "<tr>\n",
       "  <th>Skew:</th>          <td>-0.207</td> <th>  Prob(JB):          </th> <td>   0.694</td>\n",
       "</tr>\n",
       "<tr>\n",
       "  <th>Kurtosis:</th>      <td> 2.931</td> <th>  Cond. No.          </th> <td>    1.28</td>\n",
       "</tr>\n",
       "</table><br/><br/>Notes:<br/>[1] Standard Errors assume that the covariance matrix of the errors is correctly specified."
      ],
      "text/latex": [
       "\\begin{center}\n",
       "\\begin{tabular}{lclc}\n",
       "\\toprule\n",
       "\\textbf{Dep. Variable:}    &        y         & \\textbf{  R-squared:         } &     0.841   \\\\\n",
       "\\textbf{Model:}            &       OLS        & \\textbf{  Adj. R-squared:    } &     0.838   \\\\\n",
       "\\textbf{Method:}           &  Least Squares   & \\textbf{  F-statistic:       } &     256.5   \\\\\n",
       "\\textbf{Date:}             & Thu, 30 Nov 2023 & \\textbf{  Prob (F-statistic):} &  1.85e-39   \\\\\n",
       "\\textbf{Time:}             &     00:50:19     & \\textbf{  Log-Likelihood:    } &   -149.20   \\\\\n",
       "\\textbf{No. Observations:} &         100      & \\textbf{  AIC:               } &     304.4   \\\\\n",
       "\\textbf{Df Residuals:}     &          97      & \\textbf{  BIC:               } &     312.2   \\\\\n",
       "\\textbf{Df Model:}         &           2      & \\textbf{                     } &             \\\\\n",
       "\\textbf{Covariance Type:}  &    nonrobust     & \\textbf{                     } &             \\\\\n",
       "\\bottomrule\n",
       "\\end{tabular}\n",
       "\\begin{tabular}{lcccccc}\n",
       "               & \\textbf{coef} & \\textbf{std err} & \\textbf{t} & \\textbf{P$> |$t$|$} & \\textbf{[0.025} & \\textbf{0.975]}  \\\\\n",
       "\\midrule\n",
       "\\textbf{const} &       0.9495  &        0.109     &     8.681  &         0.000        &        0.732    &        1.167     \\\\\n",
       "\\textbf{x1}    &       2.0245  &        0.100     &    20.189  &         0.000        &        1.825    &        2.224     \\\\\n",
       "\\textbf{x2}    &       1.0560  &        0.125     &     8.415  &         0.000        &        0.807    &        1.305     \\\\\n",
       "\\bottomrule\n",
       "\\end{tabular}\n",
       "\\begin{tabular}{lclc}\n",
       "\\textbf{Omnibus:}       &  0.820 & \\textbf{  Durbin-Watson:     } &    1.919  \\\\\n",
       "\\textbf{Prob(Omnibus):} &  0.664 & \\textbf{  Jarque-Bera (JB):  } &    0.732  \\\\\n",
       "\\textbf{Skew:}          & -0.207 & \\textbf{  Prob(JB):          } &    0.694  \\\\\n",
       "\\textbf{Kurtosis:}      &  2.931 & \\textbf{  Cond. No.          } &     1.28  \\\\\n",
       "\\bottomrule\n",
       "\\end{tabular}\n",
       "%\\caption{OLS Regression Results}\n",
       "\\end{center}\n",
       "\n",
       "Notes: \\newline\n",
       " [1] Standard Errors assume that the covariance matrix of the errors is correctly specified."
      ],
      "text/plain": [
       "<class 'statsmodels.iolib.summary.Summary'>\n",
       "\"\"\"\n",
       "                            OLS Regression Results                            \n",
       "==============================================================================\n",
       "Dep. Variable:                      y   R-squared:                       0.841\n",
       "Model:                            OLS   Adj. R-squared:                  0.838\n",
       "Method:                 Least Squares   F-statistic:                     256.5\n",
       "Date:                Thu, 30 Nov 2023   Prob (F-statistic):           1.85e-39\n",
       "Time:                        00:50:19   Log-Likelihood:                -149.20\n",
       "No. Observations:                 100   AIC:                             304.4\n",
       "Df Residuals:                      97   BIC:                             312.2\n",
       "Df Model:                           2                                         \n",
       "Covariance Type:            nonrobust                                         \n",
       "==============================================================================\n",
       "                 coef    std err          t      P>|t|      [0.025      0.975]\n",
       "------------------------------------------------------------------------------\n",
       "const          0.9495      0.109      8.681      0.000       0.732       1.167\n",
       "x1             2.0245      0.100     20.189      0.000       1.825       2.224\n",
       "x2             1.0560      0.125      8.415      0.000       0.807       1.305\n",
       "==============================================================================\n",
       "Omnibus:                        0.820   Durbin-Watson:                   1.919\n",
       "Prob(Omnibus):                  0.664   Jarque-Bera (JB):                0.732\n",
       "Skew:                          -0.207   Prob(JB):                        0.694\n",
       "Kurtosis:                       2.931   Cond. No.                         1.28\n",
       "==============================================================================\n",
       "\n",
       "Notes:\n",
       "[1] Standard Errors assume that the covariance matrix of the errors is correctly specified.\n",
       "\"\"\""
      ]
     },
     "execution_count": 234,
     "metadata": {},
     "output_type": "execute_result"
    }
   ],
   "source": [
    "import statsmodels.api as sm\n",
    "\n",
    "X = sm.add_constant(X)\n",
    "true_model = sm.OLS(y, X).fit()\n",
    "true_model.summary()"
   ]
  },
  {
   "cell_type": "markdown",
   "metadata": {},
   "source": [
    "> Our model matches the statsmodels outputs with some rounding differences since statsmodels cuts off at 3 decimal places."
   ]
  },
  {
   "cell_type": "markdown",
   "metadata": {},
   "source": [
    "**(8)** Now implement `predict`! Then test it against your original `X` data -- do you get back something very close to your true `y`?"
   ]
  },
  {
   "cell_type": "code",
   "execution_count": 235,
   "metadata": {},
   "outputs": [
    {
     "name": "stdout",
     "output_type": "stream",
     "text": [
      "The average difference between our predicted values and our true y values is around 0.00.\n"
     ]
    }
   ],
   "source": [
    "y_pred = test_model.predict(X_test)\n",
    "print(\n",
    "    f\"The average difference between our predicted values and our true y values is around {np.mean(y_pred - y):.2f}.\"\n",
    ")"
   ]
  },
  {
   "cell_type": "markdown",
   "metadata": {},
   "source": [
    "> Here we can see the average difference between our predicted values and our true y values is close to 0."
   ]
  },
  {
   "cell_type": "markdown",
   "metadata": {},
   "source": [
    "**(9)** Finally, create the *option* of fitting the model with or without a constant term. In other words, create an option so that, if the user passes a numpy array *without* a constant term, your code will add a vector of 1s before fitting the model. As in `scikit-learn`, make this an option you set during initialization. "
   ]
  },
  {
   "cell_type": "markdown",
   "metadata": {},
   "source": [
    "> We have added a \"constant\" argument which is default to False and adds a constant term by default. If the user specifies that constant is true (meaning they have already added a constant term), then the initialization will not add a constant term."
   ]
  }
 ],
 "metadata": {
  "kernelspec": {
   "display_name": "Python 3",
   "language": "python",
   "name": "python3"
  },
  "language_info": {
   "codemirror_mode": {
    "name": "ipython",
    "version": 3
   },
   "file_extension": ".py",
   "mimetype": "text/x-python",
   "name": "python",
   "nbconvert_exporter": "python",
   "pygments_lexer": "ipython3",
   "version": "3.11.5"
  }
 },
 "nbformat": 4,
 "nbformat_minor": 4
}
